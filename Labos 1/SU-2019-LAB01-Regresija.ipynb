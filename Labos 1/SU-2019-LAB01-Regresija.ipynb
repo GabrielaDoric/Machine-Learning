{
 "cells": [
  {
   "cell_type": "markdown",
   "metadata": {},
   "source": [
    "Sveučilište u Zagrebu  \n",
    "Fakultet elektrotehnike i računarstva  \n",
    "  \n",
    "## Strojno učenje 2019/2020  \n",
    "http://www.fer.unizg.hr/predmet/su"
   ]
  },
  {
   "cell_type": "markdown",
   "metadata": {},
   "source": [
    "------------------------------\n",
    "\n",
    "### Laboratorijska vježba 1: Regresija\n",
    "\n",
    "*Verzija: 1.2  \n",
    "Zadnji put ažurirano: 27. rujna 2019.*\n",
    "\n",
    "(c) 2015-2019 Jan Šnajder, Domagoj Alagić \n",
    "\n",
    "Objavljeno: **30. rujna 2019.**  \n",
    "Rok za predaju: **21. listopada 2019. u 07:00h**\n",
    "\n",
    "------------------------------"
   ]
  },
  {
   "cell_type": "markdown",
   "metadata": {},
   "source": [
    "### Upute\n",
    "\n",
    "Prva laboratorijska vježba sastoji se od deset zadataka. U nastavku slijedite upute navedene u ćelijama s tekstom. Rješavanje vježbe svodi se na **dopunjavanje ove bilježnice**: umetanja ćelije ili više njih **ispod** teksta zadatka, pisanja odgovarajućeg kôda te evaluiranja ćelija. \n",
    "\n",
    "Osigurajte da u potpunosti **razumijete** kôd koji ste napisali. Kod predaje vježbe, morate biti u stanju na zahtjev asistenta (ili demonstratora) preinačiti i ponovno evaluirati Vaš kôd. Nadalje, morate razumjeti teorijske osnove onoga što radite, u okvirima onoga što smo obradili na predavanju. Ispod nekih zadataka možete naći i pitanja koja služe kao smjernice za bolje razumijevanje gradiva (**nemojte pisati** odgovore na pitanja u bilježnicu). Stoga se nemojte ograničiti samo na to da riješite zadatak, nego slobodno eksperimentirajte. To upravo i jest svrha ovih vježbi.\n",
    "\n",
    "Vježbe trebate raditi **samostalno**. Možete se konzultirati s drugima o načelnom načinu rješavanja, ali u konačnici morate sami odraditi vježbu. U protivnome vježba nema smisla."
   ]
  },
  {
   "cell_type": "code",
   "execution_count": 1,
   "metadata": {},
   "outputs": [
    {
     "name": "stdout",
     "output_type": "stream",
     "text": [
      "Populating the interactive namespace from numpy and matplotlib\n"
     ]
    }
   ],
   "source": [
    "# Učitaj osnovne biblioteke...\n",
    "import numpy as np\n",
    "import sklearn\n",
    "import matplotlib.pyplot as plt\n",
    "%pylab inline"
   ]
  },
  {
   "cell_type": "markdown",
   "metadata": {},
   "source": [
    "## Zadatci"
   ]
  },
  {
   "cell_type": "markdown",
   "metadata": {},
   "source": [
    "### 1. Jednostavna regresija"
   ]
  },
  {
   "cell_type": "markdown",
   "metadata": {},
   "source": [
    "Zadan je skup primjera $\\mathcal{D}=\\{(x^{(i)},y^{(i)})\\}_{i=1}^4 = \\{(0,4),(1,1),(2,2),(4,5)\\}$. Primjere predstavite matricom $\\mathbf{X}$ dimenzija $N\\times n$ (u ovom slučaju $4\\times 1$) i vektorom oznaka $\\textbf{y}$, dimenzija $N\\times 1$ (u ovom slučaju $4\\times 1$), na sljedeći način:\n"
   ]
  },
  {
   "cell_type": "code",
   "execution_count": 2,
   "metadata": {},
   "outputs": [
    {
     "name": "stdout",
     "output_type": "stream",
     "text": [
      "Primjeri:\n",
      " [[0]\n",
      " [1]\n",
      " [2]\n",
      " [4]]\n",
      "Oznake: [4 1 2 5]\n"
     ]
    }
   ],
   "source": [
    "X = np.array([[0],[1],[2],[4]])\n",
    "print ('Primjeri:\\n',X)\n",
    "y = np.array([4,1,2,5])\n",
    "print ('Oznake:',y)\n",
    "\n",
    "# plt.plot(X,y,'o')\n",
    "# plt.show()"
   ]
  },
  {
   "cell_type": "markdown",
   "metadata": {},
   "source": [
    "### (a)\n",
    "\n",
    "Proučite funkciju [`PolynomialFeatures`](http://scikit-learn.org/stable/modules/generated/sklearn.preprocessing.PolynomialFeatures.html) iz biblioteke `sklearn` i upotrijebite je za generiranje matrice dizajna $\\mathbf{\\Phi}$ koja ne koristi preslikavanje u prostor više dimenzije (samo će svakom primjeru biti dodane *dummy* jedinice; $m=n+1$).\n"
   ]
  },
  {
   "cell_type": "code",
   "execution_count": 3,
   "metadata": {},
   "outputs": [],
   "source": [
    "from sklearn.preprocessing import PolynomialFeatures"
   ]
  },
  {
   "cell_type": "code",
   "execution_count": 4,
   "metadata": {},
   "outputs": [
    {
     "name": "stdout",
     "output_type": "stream",
     "text": [
      "Matrica dizajna:\n",
      " [[1. 0.]\n",
      " [1. 1.]\n",
      " [1. 2.]\n",
      " [1. 4.]]\n"
     ]
    }
   ],
   "source": [
    "# Vaš kôd ovdje\n",
    "poly = PolynomialFeatures(1)\n",
    "design_matrix=poly.fit_transform(X)\n",
    "print ('Matrica dizajna:\\n',design_matrix)\n",
    "# print (design_matrix.transpose())"
   ]
  },
  {
   "cell_type": "markdown",
   "metadata": {},
   "source": [
    "### (b)"
   ]
  },
  {
   "cell_type": "markdown",
   "metadata": {},
   "source": [
    "Upoznajte se s modulom [`linalg`](http://docs.scipy.org/doc/numpy/reference/routines.linalg.html). Izračunajte težine $\\mathbf{w}$ modela linearne regresije kao $\\mathbf{w}=(\\mathbf{\\Phi}^\\intercal\\mathbf{\\Phi})^{-1}\\mathbf{\\Phi}^\\intercal\\mathbf{y}$. Zatim se uvjerite da isti rezultat možete dobiti izračunom pseudoinverza $\\mathbf{\\Phi}^+$ matrice dizajna, tj. $\\mathbf{w}=\\mathbf{\\Phi}^+\\mathbf{y}$, korištenjem funkcije [`pinv`](http://docs.scipy.org/doc/numpy/reference/generated/numpy.linalg.pinv.html)."
   ]
  },
  {
   "cell_type": "code",
   "execution_count": 5,
   "metadata": {},
   "outputs": [],
   "source": [
    "from numpy import linalg"
   ]
  },
  {
   "cell_type": "code",
   "execution_count": 6,
   "metadata": {},
   "outputs": [
    {
     "name": "stdout",
     "output_type": "stream",
     "text": [
      "Izračun pseudoinverza:\n",
      " [[ 0.6         0.4         0.2        -0.2       ]\n",
      " [-0.2        -0.08571429  0.02857143  0.25714286]]\n",
      "Težine: [2.2        0.45714286]\n",
      "\n",
      "\n",
      "Izračun pseudoinverza preko fje pinv:\n",
      " [[ 0.6         0.4         0.2        -0.2       ]\n",
      " [-0.2        -0.08571429  0.02857143  0.25714286]]\n",
      "Težine preko pseudoinverza: [2.2        0.45714286]\n"
     ]
    }
   ],
   "source": [
    "# Vaš kôd ovdje\n",
    "\n",
    "gram_matrix=np.matmul(design_matrix.transpose(),design_matrix)\n",
    "inverse_gram_matrix=linalg.inv(gram_matrix)\n",
    "temp=np.matmul(inverse_gram_matrix,design_matrix.transpose())\n",
    "print ('Izračun pseudoinverza:\\n',temp)\n",
    "w=np.matmul(temp,y)\n",
    "print ('Težine:',w)\n",
    "print ('\\n')\n",
    "\n",
    "temp=linalg.pinv(design_matrix)\n",
    "w2=np.matmul(temp,y)\n",
    "print ('Izračun pseudoinverza preko fje pinv:\\n', temp)\n",
    "print ('Težine preko pseudoinverza:',w2)"
   ]
  },
  {
   "cell_type": "markdown",
   "metadata": {},
   "source": [
    "Radi jasnoće, u nastavku je vektor $\\mathbf{x}$ s dodanom *dummy* jedinicom $x_0=1$ označen kao $\\tilde{\\mathbf{x}}$."
   ]
  },
  {
   "cell_type": "markdown",
   "metadata": {},
   "source": [
    "### (c)"
   ]
  },
  {
   "cell_type": "markdown",
   "metadata": {},
   "source": [
    "Prikažite primjere iz $\\mathcal{D}$ i funkciju $h(\\tilde{\\mathbf{x}})=\\mathbf{w}^\\intercal\\tilde{\\mathbf{x}}$. Izračunajte pogrešku učenja prema izrazu $E(h|\\mathcal{D})=\\frac{1}{2}\\sum_{i=1}^N(\\tilde{\\mathbf{y}}^{(i)} - h(\\tilde{\\mathbf{x}}))^2$. Možete koristiti funkciju srednje kvadratne pogreške [`mean_squared_error`]( http://scikit-learn.org/stable/modules/generated/sklearn.metrics.mean_squared_error.html) iz modula [`sklearn.metrics`](http://scikit-learn.org/stable/modules/classes.html#module-sklearn.metrics).\n",
    "\n",
    "**Q:** Gore definirana funkcija pogreške $E(h|\\mathcal{D})$ i funkcija srednje kvadratne pogreške nisu posve identične. U čemu je razlika? Koja je \"realnija\"?"
   ]
  },
  {
   "cell_type": "code",
   "execution_count": 7,
   "metadata": {},
   "outputs": [
    {
     "name": "stdout",
     "output_type": "stream",
     "text": [
      "Pogreška učenja:\t 2.042857142857143\n",
      "4.085714285714286\n"
     ]
    },
    {
     "data": {
      "text/plain": [
       "<matplotlib.legend.Legend at 0x29a7b5e3a90>"
      ]
     },
     "execution_count": 7,
     "metadata": {},
     "output_type": "execute_result"
    },
    {
     "data": {
      "image/png": "[encoded data removed]",
      "text/plain": [
       "<Figure size 432x288 with 1 Axes>"
      ]
     },
     "metadata": {
      "needs_background": "light"
     },
     "output_type": "display_data"
    }
   ],
   "source": [
    "# Vaš kôd ovdje\n",
    "from sklearn.metrics import mean_squared_error \n",
    "\n",
    "h = np.matmul(design_matrix, w)\n",
    "error=mean_squared_error(y,h) #1/N\n",
    "print ('Pogreška učenja:\\t',error)  \n",
    "error1 = 0.5*np.sum((y-h)**2)  #1/2\n",
    "print (error1)  \n",
    "\n",
    "plt.plot(X, h)\n",
    "plt.plot(X, y,'o')\n",
    "plt.legend(['Primjeri iz skupa D', 'h(x)'])\n",
    "\n"
   ]
  },
  {
   "cell_type": "markdown",
   "metadata": {},
   "source": [
    "### (d)"
   ]
  },
  {
   "cell_type": "markdown",
   "metadata": {},
   "source": [
    "Uvjerite se da za primjere iz $\\mathcal{D}$ težine $\\mathbf{w}$ ne možemo naći rješavanjem sustava $\\mathbf{w}=\\mathbf{\\Phi}^{-1}\\mathbf{y}$, već da nam doista treba pseudoinverz.\n",
    "\n",
    "**Q:** Zašto je to slučaj? Bi li se problem mogao riješiti preslikavanjem primjera u višu dimenziju? Ako da, bi li to uvijek funkcioniralo, neovisno o skupu primjera $\\mathcal{D}$? Pokažite na primjeru."
   ]
  },
  {
   "cell_type": "code",
   "execution_count": 8,
   "metadata": {},
   "outputs": [
    {
     "name": "stdout",
     "output_type": "stream",
     "text": [
      "<class 'numpy.linalg.LinAlgError'>\n",
      "Last 2 dimensions of the array must be square \n",
      "Matrica nije kvadratna->nema inverza\n"
     ]
    }
   ],
   "source": [
    "# Vaš kôd ovdje\n",
    "try:\n",
    "    print (np.matmul(linalg.inv(design_matrix),y))\n",
    "except Exception as exception:\n",
    "    print(type(exception))\n",
    "    print(exception, \"\\nMatrica nije kvadratna->nema inverza\")\n",
    "    \n",
    "#preslikavanje u višu dimenziju\n",
    "    "
   ]
  },
  {
   "cell_type": "markdown",
   "metadata": {},
   "source": [
    "### (e) "
   ]
  },
  {
   "cell_type": "markdown",
   "metadata": {},
   "source": [
    "Proučite klasu [`LinearRegression`](http://scikit-learn.org/stable/modules/generated/sklearn.linear_model.LinearRegression.html) iz modula [`sklearn.linear_model`](http://scikit-learn.org/stable/modules/classes.html#module-sklearn.linear_model). Uvjerite se da su težine koje izračunava ta funkcija (dostupne pomoću atributa `coef_` i `intercept_`) jednake onima koje ste izračunali gore. Izračunajte predikcije modela (metoda `predict`) i uvjerite se da je pogreška učenja identična onoj koju ste ranije izračunali."
   ]
  },
  {
   "cell_type": "code",
   "execution_count": 9,
   "metadata": {},
   "outputs": [
    {
     "name": "stdout",
     "output_type": "stream",
     "text": [
      "Težine 1:\t 2.2 0.45714285714285713\n",
      "Težine 2:\t [2.2        0.45714286]\n",
      "\n",
      "\n",
      "Pogreška učenja 1:\t 2.042857142857143\n",
      "Pogreška učenja 2:\t 2.042857142857143\n"
     ]
    }
   ],
   "source": [
    "# Vaš kôd ovdje\n",
    "from sklearn.linear_model import LinearRegression\n",
    "\n",
    "regression=LinearRegression().fit(design_matrix,y)\n",
    "\n",
    "w0,w1=regression.intercept_, regression.coef_[1]\n",
    "print ('Težine 1:\\t',w0,w1)\n",
    "print ('Težine 2:\\t',w)\n",
    "print (\"\\n\")\n",
    "\n",
    "prediction=regression.predict(design_matrix)\n",
    "# print (prediction)\n",
    "\n",
    "error2=mean_squared_error(y,prediction)\n",
    "print ('Pogreška učenja 1:\\t',error2)\n",
    "print ('Pogreška učenja 2:\\t',error)"
   ]
  },
  {
   "cell_type": "markdown",
   "metadata": {},
   "source": [
    "### 2. Polinomijalna regresija i utjecaj šuma"
   ]
  },
  {
   "cell_type": "markdown",
   "metadata": {},
   "source": [
    "### (a)\n",
    "\n",
    "Razmotrimo sada regresiju na većem broju primjera. Definirajte funkciju `make_labels(X, f, noise=0)` koja uzima matricu neoznačenih primjera $\\mathbf{X}_{N\\times n}$ te generira vektor njihovih oznaka $\\mathbf{y}_{N\\times 1}$. Oznake se generiraju kao $y^{(i)} = f(x^{(i)})+\\mathcal{N}(0,\\sigma^2)$, gdje je $f:\\mathbb{R}^n\\to\\mathbb{R}$ stvarna funkcija koja je generirala podatke (koja nam je u stvarnosti nepoznata), a $\\sigma$ je standardna devijacija Gaussovog šuma, definirana parametrom `noise`. Za generiranje šuma možete koristiti funkciju [`numpy.random.normal`](https://docs.scipy.org/doc/numpy-1.15.0/reference/generated/numpy.random.normal.html). \n",
    "\n",
    "Generirajte skup za učenje od $N=50$ primjera uniformno distribuiranih u intervalu $[-5,5]$ pomoću funkcije $f(x) = 5 + x -2 x^2 -5 x^3$ uz šum  $\\sigma=200$:"
   ]
  },
  {
   "cell_type": "code",
   "execution_count": 10,
   "metadata": {},
   "outputs": [],
   "source": [
    "from numpy.random import normal\n",
    "\n",
    "def make_labels(X, f, noise=0) :\n",
    "    # Vaš kôd ovdje\n",
    "    \n",
    "    labels=[]\n",
    "    for x in X:\n",
    "        y=f(x)+(normal(0,noise))\n",
    "        labels.append(y)\n",
    "        \n",
    "    return labels\n",
    "\n",
    "    "
   ]
  },
  {
   "cell_type": "code",
   "execution_count": 11,
   "metadata": {},
   "outputs": [
    {
     "name": "stdout",
     "output_type": "stream",
     "text": [
      "[[ 671.13673268]\n",
      " [ 196.58549534]\n",
      " [ 599.00797851]\n",
      " [ 265.99360799]\n",
      " [ 157.21250466]\n",
      " [ 624.01369962]\n",
      " [ 398.99239075]\n",
      " [ 191.51684658]\n",
      " [ 137.97809575]\n",
      " [ 117.20436724]\n",
      " [ -33.77030066]\n",
      " [  83.89691095]\n",
      " [ -19.46902705]\n",
      " [ 470.19813825]\n",
      " [  32.36053815]\n",
      " [ -22.81449744]\n",
      " [ -30.16407167]\n",
      " [-383.72614427]\n",
      " [-240.10321758]\n",
      " [ 237.55858718]\n",
      " [  19.3170523 ]\n",
      " [ -42.322855  ]\n",
      " [ 161.47019826]\n",
      " [-124.24313163]\n",
      " [ 216.84935373]\n",
      " [ -66.89354824]\n",
      " [ 284.4374057 ]\n",
      " [  35.75945997]\n",
      " [  97.60243459]\n",
      " [ -82.56163501]\n",
      " [ 188.68053731]\n",
      " [-271.28887744]\n",
      " [ 117.3914462 ]\n",
      " [-161.03205276]\n",
      " [-488.64539256]\n",
      " [-253.72316125]\n",
      " [-198.68784239]\n",
      " [-294.71500409]\n",
      " [-215.1479924 ]\n",
      " [  21.36554444]\n",
      " [  51.7252992 ]\n",
      " [-452.24848556]\n",
      " [-563.46358756]\n",
      " [-343.38980574]\n",
      " [-159.42463903]\n",
      " [-317.40809183]\n",
      " [-407.34021569]\n",
      " [-986.467271  ]\n",
      " [-631.53325132]\n",
      " [-909.29814407]]\n"
     ]
    }
   ],
   "source": [
    "def make_instances(x1, x2, N) :\n",
    "    return np.array([np.array([x]) for x in np.linspace(x1,x2,N)])\n",
    "\n",
    "def f(x):\n",
    "    return 5+x-2*x**2-5*x**3\n",
    "\n",
    "\n",
    "N=50 #skup za ucenje\n",
    "noise=200 #šum\n",
    "\n",
    "X = make_instances(-5, 5, N)\n",
    "y = list(make_labels(X, f, noise))\n",
    "y = np.array(y)\n",
    "print(y)"
   ]
  },
  {
   "cell_type": "markdown",
   "metadata": {},
   "source": [
    "Prikažite taj skup funkcijom [`scatter`](http://matplotlib.org/api/pyplot_api.html#matplotlib.pyplot.scatter)."
   ]
  },
  {
   "cell_type": "code",
   "execution_count": 12,
   "metadata": {},
   "outputs": [
    {
     "data": {
      "image/png": "[encoded data removed]",
      "text/plain": [
       "<Figure size 432x288 with 1 Axes>"
      ]
     },
     "metadata": {
      "needs_background": "light"
     },
     "output_type": "display_data"
    }
   ],
   "source": [
    "# Vaš kôd ovdje\n",
    "plt.scatter(X, y);"
   ]
  },
  {
   "cell_type": "markdown",
   "metadata": {},
   "source": [
    "### (b)"
   ]
  },
  {
   "cell_type": "markdown",
   "metadata": {},
   "source": [
    "Trenirajte model polinomijalne regresije stupnja $d=3$. Na istom grafikonu prikažite naučeni model $h(\\mathbf{x})=\\mathbf{w}^\\intercal\\tilde{\\mathbf{x}}$ i primjere za učenje. Izračunajte pogrešku učenja modela."
   ]
  },
  {
   "cell_type": "code",
   "execution_count": 13,
   "metadata": {},
   "outputs": [],
   "source": [
    "# Vaš kôd ovdje\n",
    "from sklearn.metrics import mean_squared_error\n",
    "\n",
    "def get_model(X, y, d):\n",
    "    poly = PolynomialFeatures(d)\n",
    "    design_matrix = poly.fit_transform(X)\n",
    "#     print (design_matrix)\n",
    "    weights = np.matmul(linalg.pinv(design_matrix),y)\n",
    "    return design_matrix, weights\n",
    "\n",
    "\n",
    "def get_prediction_and_error(design_matrix, y, w):\n",
    "    h = np.matmul(design_matrix,w)\n",
    "    error = mean_squared_error(y, h)\n",
    "    return h, error"
   ]
  },
  {
   "cell_type": "code",
   "execution_count": 14,
   "metadata": {},
   "outputs": [
    {
     "name": "stdout",
     "output_type": "stream",
     "text": [
      "Error:\t 37174.89628052666\n"
     ]
    },
    {
     "data": {
      "image/png": "[encoded data removed]",
      "text/plain": [
       "<Figure size 432x288 with 1 Axes>"
      ]
     },
     "metadata": {
      "needs_background": "light"
     },
     "output_type": "display_data"
    }
   ],
   "source": [
    "d=3\n",
    "\n",
    "design_matrix, weights = get_model(X, y, d)\n",
    "prediction, error = get_prediction_and_error(design_matrix, y, weights)\n",
    "\n",
    "print(\"Error:\\t\", error)\n",
    "plt.scatter(X, y)\n",
    "plt.plot(X, prediction)\n",
    "plt.show()\n",
    "\n",
    "\n"
   ]
  },
  {
   "cell_type": "markdown",
   "metadata": {},
   "source": [
    "### 3. Odabir modela"
   ]
  },
  {
   "cell_type": "markdown",
   "metadata": {},
   "source": [
    "### (a)\n",
    "\n",
    "Na skupu podataka iz zadatka 2 trenirajte pet modela linearne regresije $\\mathcal{H}_d$ različite složenosti, gdje je $d$ stupanj polinoma, $d\\in\\{1,3,5,10,20\\}$. Prikažite na istome grafikonu skup za učenje i funkcije $h_d(\\mathbf{x})$ za svih pet modela (preporučujemo koristiti `plot` unutar `for` petlje). Izračunajte pogrešku učenja svakog od modela.\n",
    "\n",
    "**Q:** Koji model ima najmanju pogrešku učenja i zašto?"
   ]
  },
  {
   "cell_type": "code",
   "execution_count": 37,
   "metadata": {},
   "outputs": [
    {
     "name": "stdout",
     "output_type": "stream",
     "text": [
      "Error (d=1):\t 53173.4755471285\n",
      "Error (d=3):\t 35031.06242688983\n",
      "Error (d=5):\t 34439.91744139147\n",
      "Error (d=10):\t 32410.427721621116\n",
      "Error (d=20):\t 24819.796754953695\n"
     ]
    },
    {
     "data": {
      "image/png": "[encoded data removed]",
      "text/plain": [
       "<Figure size 432x288 with 1 Axes>"
      ]
     },
     "metadata": {
      "needs_background": "light"
     },
     "output_type": "display_data"
    }
   ],
   "source": [
    "# Vaš kôd ovdje\n",
    "\n",
    "degree=[1, 3, 5, 10, 20]\n",
    "\n",
    "for d in degree:\n",
    "    design_matrix,weights = get_model(X, y, d)\n",
    "    prediction, E = get_prediction_and_error(design_matrix, y, weights)\n",
    "    \n",
    "    plt.plot(X, prediction, label=\"d = \" + str(d))\n",
    "    print(\"Error (d=\"+str(d)+\"):\\t\", E)\n",
    "    \n",
    "plt.scatter(X, y)\n",
    "plt.legend()\n",
    "plt.show()\n"
   ]
  },
  {
   "cell_type": "markdown",
   "metadata": {},
   "source": [
    "### (b)"
   ]
  },
  {
   "cell_type": "markdown",
   "metadata": {},
   "source": [
    "Razdvojite skup primjera iz zadatka 2 pomoću funkcije [`model_selection.train_test_split`](https://scikit-learn.org/stable/modules/generated/sklearn.model_selection.train_test_split.html) na skup za učenja i skup za ispitivanje u omjeru 1:1. Prikažite na jednom grafikonu pogrešku učenja i ispitnu pogrešku za modele polinomijalne regresije $\\mathcal{H}_d$, sa stupnjem polinoma $d$ u rasponu $d\\in [1,2,\\ldots,20]$. Budući da kvadratna pogreška brzo raste za veće stupnjeve polinoma, umjesto da iscrtate izravno iznose pogrešaka, iscrtajte njihove logaritme.\n",
    "\n",
    "**NB:** Podjela na skupa za učenje i skup za ispitivanje mora za svih pet modela biti identična.\n",
    "\n",
    "**Q:** Je li rezultat u skladu s očekivanjima? Koji biste model odabrali i zašto?\n",
    "\n",
    "**Q:** Pokrenite iscrtavanje više puta. U čemu je problem? Bi li problem bio jednako izražen kad bismo imali više primjera? Zašto?"
   ]
  },
  {
   "cell_type": "code",
   "execution_count": 16,
   "metadata": {},
   "outputs": [],
   "source": [
    "from sklearn.model_selection import train_test_split"
   ]
  },
  {
   "cell_type": "code",
   "execution_count": 39,
   "metadata": {},
   "outputs": [
    {
     "data": {
      "image/png": "[encoded data removed]",
      "text/plain": [
       "<Figure size 432x288 with 1 Axes>"
      ]
     },
     "metadata": {
      "needs_background": "light"
     },
     "output_type": "display_data"
    }
   ],
   "source": [
    "# Vaš kôd ovdje\n",
    "\n",
    "X_train, X_test, y_train, y_test = train_test_split(X, y, test_size=0.5)\n",
    "\n",
    "degree=list(range(1, 21))\n",
    "train_error = []\n",
    "test_error = []\n",
    "\n",
    "for d in degree:\n",
    "    design_matrix,weights = get_model(X_train, y_train, d)\n",
    "    predict_train, E_train = get_prediction_and_error(design_matrix, y_train, weights)\n",
    "    train_error.append(np.log(E_train))\n",
    "    \n",
    "    design_matrix_test, weights_test=get_model(X_test, y_test, d)\n",
    "    predict_test, E_test = get_prediction_and_error(design_matrix_test, y_test,weights)    \n",
    "    test_error.append(np.log(E_test))\n",
    "\n",
    "\n",
    "plt.plot(degree, train_error, label=\"Train error\")\n",
    "plt.plot(degree, test_error, label=\"Test error\")\n",
    "plt.legend()\n",
    "plt.show()\n",
    "\n",
    "\n"
   ]
  },
  {
   "cell_type": "markdown",
   "metadata": {},
   "source": [
    "### (c)"
   ]
  },
  {
   "cell_type": "markdown",
   "metadata": {},
   "source": [
    "Točnost modela ovisi o (1) njegovoj složenosti (stupanj $d$ polinoma), (2) broju primjera $N$, i (3) količini šuma. Kako biste to analizirali, nacrtajte grafikone pogrešaka kao u 3b, ali za različit $N\\in$ (trećina, dvije trećine, sve) i količine šuma $\\sigma\\in\\{100,200,500\\}$ (ukupno 9 grafikona). Upotrijebite funkciju [`subplots`](http://matplotlib.org/examples/pylab_examples/subplots_demo.html) kako biste pregledno posložili grafikone u tablicu $3\\times 3$. Podatci se generiraju na isti način kao u zadatku 2.\n",
    "\n",
    "**NB:** Pobrinite se da svi grafikoni budu generirani nad usporedivim skupovima podataka, na sljedeći način. Generirajte najprije svih 1000 primjera, podijelite ih na skupove za učenje i skupove za ispitivanje (dva skupa od po 500 primjera). Zatim i od skupa za učenje i od skupa za ispitivanje načinite tri različite verzije, svaka s drugačijom količinom šuma (ukupno 2x3=6 verzija podataka). Kako bi simulirali veličinu skupa podataka, od tih dobivenih 6 skupova podataka uzorkujte trećinu, dvije trećine i sve podatke. Time ste dobili 18 skupova podataka -- skup za učenje i za testiranje za svaki od devet grafova."
   ]
  },
  {
   "cell_type": "code",
   "execution_count": 18,
   "metadata": {},
   "outputs": [
    {
     "data": {
      "image/png": "[encoded data removed]",
      "text/plain": [
       "<Figure size 1080x1080 with 9 Axes>"
      ]
     },
     "metadata": {
      "needs_background": "light"
     },
     "output_type": "display_data"
    }
   ],
   "source": [
    "def training(X_train, X_test, y_train, y_test):\n",
    "    \n",
    "    Train_err=[]\n",
    "    Test_err=[]\n",
    "    for d in range(1, 21):\n",
    "        X_tilda,w = get_model(X_train, y_train, d)\n",
    "        h1, E_train = get_prediction_and_error(X_tilda, y_train, w)\n",
    "        Train_err.append(np.log(E_train))\n",
    "\n",
    "        X_temp, w1 = get_model(X_train, y_train, d)\n",
    "        h2, E_test = get_prediction_and_error(X_temp, y_test, w)    \n",
    "        Test_err.append(np.log(E_test))\n",
    "    \n",
    "    return Train_err, Test_err\n",
    "\n",
    "#plotanje\n",
    "fig, axs = plt.subplots(3, 3, figsize=(15, 15))\n",
    "axs = axs.ravel()\n",
    "\n",
    "degree=list(range(1, 21))\n",
    "noise = [100, 200, 500]\n",
    "# N = [50, 100, 500] #ovliko cemo uzmiat iz test/train skupa\n",
    "K = [1/3, 2/3, 1]\n",
    "\n",
    "X = make_instances(-5,5,1000)\n",
    "X_train, X_test = train_test_split(X, test_size=0.5)\n",
    "\n",
    "\n",
    "for i, sigma in enumerate(noise):\n",
    "    y = list(make_labels(X_train, f, sigma)) \n",
    "    y_train = np.array(y)\n",
    "    y = list(make_labels(X_test,f,sigma)) \n",
    "    y_test = np.array(y)\n",
    "    \n",
    "    for j, n in enumerate(K):\n",
    "        number_of_examples=math.floor(n*500)\n",
    "        index_list = np.random.choice(np.arange(500), number_of_examples, replace=False)\n",
    "        X1_train = X_train[index_list]\n",
    "        y1_train = y_train[index_list]\n",
    "\n",
    "        X1_test = X_test[index_list]\n",
    "        y1_test = y_test[index_list]\n",
    "        \n",
    "\n",
    "        train,test=training(X1_train,X1_test,y1_train,y1_test)\n",
    "        \n",
    "        axs[i*3+j].set_title(\"N = \" + str(math.ceil(n*500)) + \", noise = \" + str(sigma))\n",
    "        axs[i*3+j].plot(degree,train,label=\"Train\")\n",
    "        axs[i*3+j].plot(degree,test,label=\"Test\")\n",
    "        axs[i*3+j].legend()\n",
    "\n",
    "\n",
    "plt.show()"
   ]
  },
  {
   "cell_type": "markdown",
   "metadata": {},
   "source": [
    "***Q:*** Jesu li rezultati očekivani? Obrazložite."
   ]
  },
  {
   "cell_type": "markdown",
   "metadata": {},
   "source": [
    "### 4. Regularizirana regresija"
   ]
  },
  {
   "cell_type": "markdown",
   "metadata": {},
   "source": [
    "### (a)\n",
    "\n",
    "U gornjim eksperimentima nismo koristili **regularizaciju**. Vratimo se najprije na primjer iz zadatka 1. Na primjerima iz tog zadatka izračunajte težine $\\mathbf{w}$ za polinomijalni regresijski model stupnja $d=3$ uz L2-regularizaciju (tzv. *ridge regression*), prema izrazu $\\mathbf{w}=(\\mathbf{\\Phi}^\\intercal\\mathbf{\\Phi}+\\lambda\\mathbf{I})^{-1}\\mathbf{\\Phi}^\\intercal\\mathbf{y}$. Napravite izračun težina za regularizacijske faktore $\\lambda=0$, $\\lambda=1$ i $\\lambda=10$ te usporedite dobivene težine.\n",
    "\n",
    "**Q:** Kojih je dimenzija matrica koju treba invertirati?\n",
    "\n",
    "**Q:** Po čemu se razlikuju dobivene težine i je li ta razlika očekivana? Obrazložite."
   ]
  },
  {
   "cell_type": "code",
   "execution_count": 19,
   "metadata": {},
   "outputs": [
    {
     "name": "stdout",
     "output_type": "stream",
     "text": [
      "Težine uz lambda=0:\t [ 4.         -5.91666667  3.375      -0.45833333]\n",
      "Težine uz lambda=1:\t [ 3.05696145 -0.69079365 -0.2831746   0.1445805 ]\n",
      "Težine uz lambda=10:\t [ 2.49444184 -0.15897295 -0.13423067  0.0815601 ]\n"
     ]
    }
   ],
   "source": [
    "# Vaš kôd ovdje\n",
    "\n",
    "def modified_eye(n):\n",
    "    eye = np.eye(n)\n",
    "    eye.itemset((0,0),0)\n",
    "    return eye\n",
    "\n",
    "def find_weights(reg_factor, design_matrix,y):\n",
    "    gram_matrix=np.matmul(design_matrix.transpose(),design_matrix)\n",
    "    identity_matrix=reg_factor*modified_eye(4)\n",
    "    temp=gram_matrix+identity_matrix\n",
    "    temp=linalg.inv(temp) \n",
    "    temp=np.matmul(temp,design_matrix.transpose())  \n",
    "    w=np.matmul(temp,y)\n",
    "     \n",
    "    return w\n",
    "\n",
    "X = np.array([[0],[1],[2],[4]])\n",
    "y = np.array([4,1,2,5])\n",
    "\n",
    "d=3\n",
    "reg_factor=[0,1,10]\n",
    "\n",
    "design_matrix=PolynomialFeatures(d).fit_transform(X)\n",
    "for i in range(len(reg_factor)):\n",
    "    w=find_weights(reg_factor[i], design_matrix,y)\n",
    "    print ('Težine uz lambda='+ str(reg_factor[i])+':\\t',w)\n",
    "\n"
   ]
  },
  {
   "cell_type": "markdown",
   "metadata": {},
   "source": [
    "### (b)"
   ]
  },
  {
   "cell_type": "markdown",
   "metadata": {},
   "source": [
    "Proučite klasu [`Ridge`](http://scikit-learn.org/stable/modules/generated/sklearn.linear_model.Ridge.html#sklearn.linear_model.Ridge) iz modula [`sklearn.linear_model`](http://scikit-learn.org/stable/modules/classes.html#module-sklearn.linear_model), koja implementira L2-regularizirani regresijski model. Parametar $\\alpha$ odgovara parametru $\\lambda$. Primijenite model na istim primjerima kao u prethodnom zadatku i ispišite težine $\\mathbf{w}$ (atributi `coef_` i `intercept_`).\n",
    "\n",
    "**Q:** Jesu li težine identične onima iz zadatka 4a? Ako nisu, objasnite zašto je to tako i kako biste to popravili."
   ]
  },
  {
   "cell_type": "code",
   "execution_count": 20,
   "metadata": {},
   "outputs": [],
   "source": [
    "from sklearn.linear_model import Ridge"
   ]
  },
  {
   "cell_type": "code",
   "execution_count": 21,
   "metadata": {},
   "outputs": [
    {
     "name": "stdout",
     "output_type": "stream",
     "text": [
      "Težine uz lambda=0:\t [ 4.         -1.91666667  7.375       3.54166667]\n",
      "Težine uz lambda=1:\t [3.05696145 2.3661678  2.77378685 3.20154195]\n",
      "Težine uz lambda=10:\t [2.49444184 2.33546889 2.36021118 2.57600194]\n"
     ]
    }
   ],
   "source": [
    "# Vaš kôd ovdje\n",
    "\n",
    "reg_factors=[0,1,10]\n",
    "for reg_factor in reg_factors:\n",
    "    \n",
    "    poly = PolynomialFeatures(3)\n",
    "    design_matrix = poly.fit_transform(X)\n",
    "    \n",
    "    clf = Ridge(alpha = reg_factor)\n",
    "    clf.fit(design_matrix, y) \n",
    "    \n",
    "    print('Težine uz lambda='+str(reg_factor)+':\\t',clf.coef_+clf.intercept_)"
   ]
  },
  {
   "cell_type": "markdown",
   "metadata": {},
   "source": [
    "### 5. Regularizirana polinomijalna regresija"
   ]
  },
  {
   "cell_type": "markdown",
   "metadata": {},
   "source": [
    "### (a)\n",
    "\n",
    "Vratimo se na slučaj $N=50$ slučajno generiranih primjera iz zadatka 2. Trenirajte modele polinomijalne regresije $\\mathcal{H}_{\\lambda,d}$ za $\\lambda\\in\\{0,100\\}$ i $d\\in\\{2,10\\}$ (ukupno četiri modela). Skicirajte pripadne funkcije $h(\\mathbf{x})$ i primjere (na jednom grafikonu; preporučujemo koristiti `plot` unutar `for` petlje).\n",
    "\n",
    "**Q:** Jesu li rezultati očekivani? Obrazložite."
   ]
  },
  {
   "cell_type": "code",
   "execution_count": 22,
   "metadata": {},
   "outputs": [
    {
     "data": {
      "image/png": "[encoded data removed]",
      "text/plain": [
       "<Figure size 432x288 with 1 Axes>"
      ]
     },
     "metadata": {
      "needs_background": "light"
     },
     "output_type": "display_data"
    }
   ],
   "source": [
    "# Vaš kôd ovdje\n",
    "\n",
    "X = make_instances(-5, 5, 50)\n",
    "y = list(make_labels(X, f, 200))\n",
    "y = np.array(y)\n",
    "\n",
    "reg_factors = [0,100]\n",
    "degrees = [2,10]\n",
    "\n",
    "\n",
    "for d in degrees:\n",
    "    poly = PolynomialFeatures(d)\n",
    "    psi = poly.fit_transform(X)\n",
    "    \n",
    "    for factor in reg_factors:\n",
    "        clf = Ridge(alpha = factor)\n",
    "        clf.fit(psi, y)\n",
    "        \n",
    "        prediction = clf.predict(psi)\n",
    "        plt.plot(X, prediction, label=\"d = \" + str(d) + \", lambda=\" + str(factor))\n",
    "\n",
    "plt.scatter(X, y)\n",
    "plt.legend()\n",
    "plt.show()"
   ]
  },
  {
   "cell_type": "markdown",
   "metadata": {},
   "source": [
    "### (b)\n",
    "\n",
    "Kao u zadataku 3b, razdvojite primjere na skup za učenje i skup za ispitivanje u omjeru 1:1. Prikažite krivulje logaritama pogreške učenja i ispitne pogreške u ovisnosti za model $\\mathcal{H}_{d=10,\\lambda}$, podešavajući faktor regularizacije $\\lambda$ u rasponu $\\lambda\\in\\{0,1,\\dots,50\\}$.\n",
    "\n",
    "**Q:** Kojoj strani na grafikonu odgovara područje prenaučenosti, a kojoj podnaučenosti? Zašto?\n",
    "\n",
    "**Q:** Koju biste vrijednosti za $\\lambda$ izabrali na temelju ovih grafikona i zašto?\n"
   ]
  },
  {
   "cell_type": "code",
   "execution_count": 42,
   "metadata": {},
   "outputs": [
    {
     "name": "stderr",
     "output_type": "stream",
     "text": [
      "c:\\python37\\lib\\site-packages\\sklearn\\linear_model\\ridge.py:147: LinAlgWarning: Ill-conditioned matrix (rcond=6.78793e-22): result may not be accurate.\n",
      "  overwrite_a=True).T\n",
      "c:\\python37\\lib\\site-packages\\sklearn\\linear_model\\ridge.py:147: LinAlgWarning: Ill-conditioned matrix (rcond=1.26167e-21): result may not be accurate.\n",
      "  overwrite_a=True).T\n",
      "c:\\python37\\lib\\site-packages\\sklearn\\linear_model\\ridge.py:147: LinAlgWarning: Ill-conditioned matrix (rcond=2.03638e-21): result may not be accurate.\n",
      "  overwrite_a=True).T\n",
      "c:\\python37\\lib\\site-packages\\sklearn\\linear_model\\ridge.py:147: LinAlgWarning: Ill-conditioned matrix (rcond=2.71517e-21): result may not be accurate.\n",
      "  overwrite_a=True).T\n",
      "c:\\python37\\lib\\site-packages\\sklearn\\linear_model\\ridge.py:147: LinAlgWarning: Ill-conditioned matrix (rcond=3.39397e-21): result may not be accurate.\n",
      "  overwrite_a=True).T\n",
      "c:\\python37\\lib\\site-packages\\sklearn\\linear_model\\ridge.py:147: LinAlgWarning: Ill-conditioned matrix (rcond=4.07276e-21): result may not be accurate.\n",
      "  overwrite_a=True).T\n",
      "c:\\python37\\lib\\site-packages\\sklearn\\linear_model\\ridge.py:147: LinAlgWarning: Ill-conditioned matrix (rcond=4.75155e-21): result may not be accurate.\n",
      "  overwrite_a=True).T\n",
      "c:\\python37\\lib\\site-packages\\sklearn\\linear_model\\ridge.py:147: LinAlgWarning: Ill-conditioned matrix (rcond=5.43034e-21): result may not be accurate.\n",
      "  overwrite_a=True).T\n",
      "c:\\python37\\lib\\site-packages\\sklearn\\linear_model\\ridge.py:147: LinAlgWarning: Ill-conditioned matrix (rcond=6.10914e-21): result may not be accurate.\n",
      "  overwrite_a=True).T\n",
      "c:\\python37\\lib\\site-packages\\sklearn\\linear_model\\ridge.py:147: LinAlgWarning: Ill-conditioned matrix (rcond=6.78793e-21): result may not be accurate.\n",
      "  overwrite_a=True).T\n",
      "c:\\python37\\lib\\site-packages\\sklearn\\linear_model\\ridge.py:147: LinAlgWarning: Ill-conditioned matrix (rcond=7.46672e-21): result may not be accurate.\n",
      "  overwrite_a=True).T\n",
      "c:\\python37\\lib\\site-packages\\sklearn\\linear_model\\ridge.py:147: LinAlgWarning: Ill-conditioned matrix (rcond=8.14552e-21): result may not be accurate.\n",
      "  overwrite_a=True).T\n",
      "c:\\python37\\lib\\site-packages\\sklearn\\linear_model\\ridge.py:147: LinAlgWarning: Ill-conditioned matrix (rcond=8.71478e-21): result may not be accurate.\n",
      "  overwrite_a=True).T\n",
      "c:\\python37\\lib\\site-packages\\sklearn\\linear_model\\ridge.py:147: LinAlgWarning: Ill-conditioned matrix (rcond=9.2616e-21): result may not be accurate.\n",
      "  overwrite_a=True).T\n",
      "c:\\python37\\lib\\site-packages\\sklearn\\linear_model\\ridge.py:147: LinAlgWarning: Ill-conditioned matrix (rcond=9.80672e-21): result may not be accurate.\n",
      "  overwrite_a=True).T\n",
      "c:\\python37\\lib\\site-packages\\sklearn\\linear_model\\ridge.py:147: LinAlgWarning: Ill-conditioned matrix (rcond=1.03504e-20): result may not be accurate.\n",
      "  overwrite_a=True).T\n",
      "c:\\python37\\lib\\site-packages\\sklearn\\linear_model\\ridge.py:147: LinAlgWarning: Ill-conditioned matrix (rcond=1.08926e-20): result may not be accurate.\n",
      "  overwrite_a=True).T\n",
      "c:\\python37\\lib\\site-packages\\sklearn\\linear_model\\ridge.py:147: LinAlgWarning: Ill-conditioned matrix (rcond=1.14337e-20): result may not be accurate.\n",
      "  overwrite_a=True).T\n",
      "c:\\python37\\lib\\site-packages\\sklearn\\linear_model\\ridge.py:147: LinAlgWarning: Ill-conditioned matrix (rcond=1.19737e-20): result may not be accurate.\n",
      "  overwrite_a=True).T\n",
      "c:\\python37\\lib\\site-packages\\sklearn\\linear_model\\ridge.py:147: LinAlgWarning: Ill-conditioned matrix (rcond=1.25126e-20): result may not be accurate.\n",
      "  overwrite_a=True).T\n",
      "c:\\python37\\lib\\site-packages\\sklearn\\linear_model\\ridge.py:147: LinAlgWarning: Ill-conditioned matrix (rcond=1.30506e-20): result may not be accurate.\n",
      "  overwrite_a=True).T\n",
      "c:\\python37\\lib\\site-packages\\sklearn\\linear_model\\ridge.py:147: LinAlgWarning: Ill-conditioned matrix (rcond=1.35877e-20): result may not be accurate.\n",
      "  overwrite_a=True).T\n",
      "c:\\python37\\lib\\site-packages\\sklearn\\linear_model\\ridge.py:147: LinAlgWarning: Ill-conditioned matrix (rcond=1.4124e-20): result may not be accurate.\n",
      "  overwrite_a=True).T\n",
      "c:\\python37\\lib\\site-packages\\sklearn\\linear_model\\ridge.py:147: LinAlgWarning: Ill-conditioned matrix (rcond=1.46596e-20): result may not be accurate.\n",
      "  overwrite_a=True).T\n",
      "c:\\python37\\lib\\site-packages\\sklearn\\linear_model\\ridge.py:147: LinAlgWarning: Ill-conditioned matrix (rcond=1.51944e-20): result may not be accurate.\n",
      "  overwrite_a=True).T\n",
      "c:\\python37\\lib\\site-packages\\sklearn\\linear_model\\ridge.py:147: LinAlgWarning: Ill-conditioned matrix (rcond=1.57286e-20): result may not be accurate.\n",
      "  overwrite_a=True).T\n",
      "c:\\python37\\lib\\site-packages\\sklearn\\linear_model\\ridge.py:147: LinAlgWarning: Ill-conditioned matrix (rcond=1.62621e-20): result may not be accurate.\n",
      "  overwrite_a=True).T\n",
      "c:\\python37\\lib\\site-packages\\sklearn\\linear_model\\ridge.py:147: LinAlgWarning: Ill-conditioned matrix (rcond=1.6795e-20): result may not be accurate.\n",
      "  overwrite_a=True).T\n",
      "c:\\python37\\lib\\site-packages\\sklearn\\linear_model\\ridge.py:147: LinAlgWarning: Ill-conditioned matrix (rcond=1.73274e-20): result may not be accurate.\n",
      "  overwrite_a=True).T\n",
      "c:\\python37\\lib\\site-packages\\sklearn\\linear_model\\ridge.py:147: LinAlgWarning: Ill-conditioned matrix (rcond=1.78592e-20): result may not be accurate.\n",
      "  overwrite_a=True).T\n",
      "c:\\python37\\lib\\site-packages\\sklearn\\linear_model\\ridge.py:147: LinAlgWarning: Ill-conditioned matrix (rcond=1.83905e-20): result may not be accurate.\n",
      "  overwrite_a=True).T\n",
      "c:\\python37\\lib\\site-packages\\sklearn\\linear_model\\ridge.py:147: LinAlgWarning: Ill-conditioned matrix (rcond=1.89213e-20): result may not be accurate.\n",
      "  overwrite_a=True).T\n",
      "c:\\python37\\lib\\site-packages\\sklearn\\linear_model\\ridge.py:147: LinAlgWarning: Ill-conditioned matrix (rcond=1.94517e-20): result may not be accurate.\n",
      "  overwrite_a=True).T\n",
      "c:\\python37\\lib\\site-packages\\sklearn\\linear_model\\ridge.py:147: LinAlgWarning: Ill-conditioned matrix (rcond=1.99815e-20): result may not be accurate.\n",
      "  overwrite_a=True).T\n",
      "c:\\python37\\lib\\site-packages\\sklearn\\linear_model\\ridge.py:147: LinAlgWarning: Ill-conditioned matrix (rcond=2.0511e-20): result may not be accurate.\n",
      "  overwrite_a=True).T\n",
      "c:\\python37\\lib\\site-packages\\sklearn\\linear_model\\ridge.py:147: LinAlgWarning: Ill-conditioned matrix (rcond=2.104e-20): result may not be accurate.\n",
      "  overwrite_a=True).T\n",
      "c:\\python37\\lib\\site-packages\\sklearn\\linear_model\\ridge.py:147: LinAlgWarning: Ill-conditioned matrix (rcond=2.15687e-20): result may not be accurate.\n",
      "  overwrite_a=True).T\n",
      "c:\\python37\\lib\\site-packages\\sklearn\\linear_model\\ridge.py:147: LinAlgWarning: Ill-conditioned matrix (rcond=2.57941e-20): result may not be accurate.\n",
      "  overwrite_a=True).T\n",
      "c:\\python37\\lib\\site-packages\\sklearn\\linear_model\\ridge.py:147: LinAlgWarning: Ill-conditioned matrix (rcond=2.64729e-20): result may not be accurate.\n",
      "  overwrite_a=True).T\n",
      "c:\\python37\\lib\\site-packages\\sklearn\\linear_model\\ridge.py:147: LinAlgWarning: Ill-conditioned matrix (rcond=2.71517e-20): result may not be accurate.\n",
      "  overwrite_a=True).T\n",
      "c:\\python37\\lib\\site-packages\\sklearn\\linear_model\\ridge.py:147: LinAlgWarning: Ill-conditioned matrix (rcond=2.78305e-20): result may not be accurate.\n",
      "  overwrite_a=True).T\n",
      "c:\\python37\\lib\\site-packages\\sklearn\\linear_model\\ridge.py:147: LinAlgWarning: Ill-conditioned matrix (rcond=2.85093e-20): result may not be accurate.\n",
      "  overwrite_a=True).T\n",
      "c:\\python37\\lib\\site-packages\\sklearn\\linear_model\\ridge.py:147: LinAlgWarning: Ill-conditioned matrix (rcond=2.91881e-20): result may not be accurate.\n",
      "  overwrite_a=True).T\n",
      "c:\\python37\\lib\\site-packages\\sklearn\\linear_model\\ridge.py:147: LinAlgWarning: Ill-conditioned matrix (rcond=2.98669e-20): result may not be accurate.\n",
      "  overwrite_a=True).T\n",
      "c:\\python37\\lib\\site-packages\\sklearn\\linear_model\\ridge.py:147: LinAlgWarning: Ill-conditioned matrix (rcond=3.05457e-20): result may not be accurate.\n",
      "  overwrite_a=True).T\n",
      "c:\\python37\\lib\\site-packages\\sklearn\\linear_model\\ridge.py:147: LinAlgWarning: Ill-conditioned matrix (rcond=3.12245e-20): result may not be accurate.\n",
      "  overwrite_a=True).T\n",
      "c:\\python37\\lib\\site-packages\\sklearn\\linear_model\\ridge.py:147: LinAlgWarning: Ill-conditioned matrix (rcond=3.19033e-20): result may not be accurate.\n",
      "  overwrite_a=True).T\n",
      "c:\\python37\\lib\\site-packages\\sklearn\\linear_model\\ridge.py:147: LinAlgWarning: Ill-conditioned matrix (rcond=3.25821e-20): result may not be accurate.\n",
      "  overwrite_a=True).T\n",
      "c:\\python37\\lib\\site-packages\\sklearn\\linear_model\\ridge.py:147: LinAlgWarning: Ill-conditioned matrix (rcond=3.32609e-20): result may not be accurate.\n",
      "  overwrite_a=True).T\n",
      "c:\\python37\\lib\\site-packages\\sklearn\\linear_model\\ridge.py:147: LinAlgWarning: Ill-conditioned matrix (rcond=3.39397e-20): result may not be accurate.\n",
      "  overwrite_a=True).T\n"
     ]
    },
    {
     "data": {
      "image/png": "[encoded data removed]",
      "text/plain": [
       "<Figure size 432x288 with 1 Axes>"
      ]
     },
     "metadata": {
      "needs_background": "light"
     },
     "output_type": "display_data"
    }
   ],
   "source": [
    "# Vaš kôd ovdje\n",
    "\n",
    "poly = PolynomialFeatures(15)\n",
    "design_matrix = poly.fit_transform(X)\n",
    "X_train, X_test, y_train, y_test = train_test_split(design_matrix, y, test_size=0.5)\n",
    "\n",
    "reg_factors=list(range(0, 51))\n",
    "train_error = []\n",
    "test_error = []\n",
    "\n",
    "for reg_factor in reg_factors:\n",
    "    \n",
    "    clf = Ridge(alpha=reg_factor)\n",
    "    clf.fit(X_train, y_train)\n",
    "        \n",
    "    prediction_train = clf.predict(X_train)\n",
    "    train_error.append(np.log(sklearn.metrics.mean_squared_error(y_train, prediction_train)))\n",
    "        \n",
    "    prediction_test = clf.predict(X_test)\n",
    "    test_error.append(np.log(sklearn.metrics.mean_squared_error(y_test, prediction_test)))\n",
    "\n",
    "plt.plot(reg_factors, train_error, label=\"Train error\")\n",
    "plt.plot(reg_factors, test_error, label=\"Test error\")\n",
    "plt.legend()\n",
    "plt.show()"
   ]
  },
  {
   "cell_type": "markdown",
   "metadata": {},
   "source": [
    "### 6. L1-regularizacija i L2-regularizacija"
   ]
  },
  {
   "cell_type": "markdown",
   "metadata": {},
   "source": [
    "Svrha regularizacije jest potiskivanje težina modela $\\mathbf{w}$ prema nuli, kako bi model bio što jednostavniji. Složenost modela može se okarakterizirati normom pripadnog vektora težina $\\mathbf{w}$, i to tipično L2-normom ili L1-normom. Za jednom trenirani model možemo izračunati i broj ne-nul značajki, ili L0-normu, pomoću sljedeće funkcije koja prima vektor težina $\\mathbf{w}$:"
   ]
  },
  {
   "cell_type": "code",
   "execution_count": 24,
   "metadata": {},
   "outputs": [],
   "source": [
    "def nonzeroes(coef, tol=1e-6): \n",
    "    return len(coef) - len(coef[np.isclose(0, coef, atol=tol)])"
   ]
  },
  {
   "cell_type": "markdown",
   "metadata": {},
   "source": [
    "### (a)\n",
    "\n",
    "Za ovaj zadatak upotrijebite skup za učenje i skup za testiranje iz zadatka 3b. Trenirajte modele **L2-regularizirane** polinomijalne regresije stupnja $d=10$, mijenjajući hiperparametar $\\lambda$ u rasponu $\\{1,2,\\dots,100\\}$. Za svaki od treniranih modela izračunajte L{0,1,2}-norme vektora težina $\\mathbf{w}$ te ih prikažite kao funkciju od $\\lambda$. Pripazite što točno šaljete u funkciju za izračun normi.\n",
    "\n",
    "**Q:** Objasnite oblik obiju krivulja. Hoće li krivulja za $\\|\\mathbf{w}\\|_2$ doseći nulu? Zašto? Je li to problem? Zašto?\n",
    "\n",
    "**Q:** Za $\\lambda=100$, koliki je postotak težina modela jednak nuli, odnosno koliko je model rijedak?"
   ]
  },
  {
   "cell_type": "code",
   "execution_count": 25,
   "metadata": {},
   "outputs": [
    {
     "name": "stdout",
     "output_type": "stream",
     "text": [
      "[-37.1796212] \t [[ 0.00000000e+00 -4.86947683e+00  3.75558263e+00 -9.48367984e+00\n",
      "   6.55035079e-01 -1.56415956e-02  1.83641066e-01  1.45793685e-02\n",
      "  -2.10288724e-02 -1.53441435e-04  5.34676193e-04]] [-37.1796212  -42.04909803 -33.42403857 -46.66330103 -36.52458612\n",
      " -37.19526279 -36.99598013 -37.16504183 -37.20065007 -37.17977464\n",
      " -37.17908652]\n"
     ]
    },
    {
     "data": {
      "image/png": "[encoded data removed]",
      "text/plain": [
       "<Figure size 432x288 with 1 Axes>"
      ]
     },
     "metadata": {
      "needs_background": "light"
     },
     "output_type": "display_data"
    }
   ],
   "source": [
    "# Vaš kôd ovdje\n",
    "\n",
    "from sklearn.linear_model import Ridge\n",
    "\n",
    "\n",
    "X = make_instances(-5, 5, 50)\n",
    "y = list(make_labels(X, f, 200))\n",
    "y = np.array(y)\n",
    "\n",
    "poly = PolynomialFeatures(10)\n",
    "design_matrix = poly.fit_transform(X)\n",
    "X_train, X_test, y_train, y_test = train_test_split(design_matrix, y, test_size=0.5)\n",
    "\n",
    "reg_factors=list(range(0, 100))\n",
    "\n",
    "L0 = []\n",
    "L1 = []\n",
    "L2 = []\n",
    "\n",
    "for reg_factor in reg_factors:\n",
    "    \n",
    "    clf = Ridge(alpha = reg_factor)\n",
    "    clf.fit(X_train, y_train)\n",
    "\n",
    "    \n",
    "    w0=clf.intercept_\n",
    "    w=clf.coef_\n",
    "    weights=w+w0\n",
    "    weights=weights.flatten()\n",
    "    \n",
    "    L0_norm = nonzeroes(weights)\n",
    "    L1_norm = np.sum(abs(weights))\n",
    "    L2_norm = np.sqrt(np.matmul(weights.transpose(), weights))\n",
    "    \n",
    "    L0.append(L0_norm)\n",
    "    L1.append(L1_norm)\n",
    "    L2.append(L2_norm)\n",
    "print (w0,'\\t',w,weights)\n",
    "\n",
    "\n",
    "\n",
    "plt.plot(reg_factors, L0, label=\"L0\")\n",
    "plt.plot(reg_factors, L1, label=\"L1\")\n",
    "plt.plot(reg_factors, L2, label=\"L2\")\n",
    "plt.legend()\n",
    "plt.show()"
   ]
  },
  {
   "cell_type": "markdown",
   "metadata": {},
   "source": [
    "### (b)"
   ]
  },
  {
   "cell_type": "markdown",
   "metadata": {},
   "source": [
    "Glavna prednost L1-regularizirane regresije (ili *LASSO regression*) nad L2-regulariziranom regresijom jest u tome što L1-regularizirana regresija rezultira **rijetkim modelima** (engl. *sparse models*), odnosno modelima kod kojih su mnoge težine pritegnute na nulu. Pokažite da je to doista tako, ponovivši gornji eksperiment s **L1-regulariziranom** regresijom, implementiranom u klasi  [`Lasso`](http://scikit-learn.org/stable/modules/generated/sklearn.linear_model.Lasso.html) u modulu [`sklearn.linear_model`](http://scikit-learn.org/stable/modules/classes.html#module-sklearn.linear_model). Zanemarite upozorenja."
   ]
  },
  {
   "cell_type": "code",
   "execution_count": 26,
   "metadata": {},
   "outputs": [
    {
     "name": "stderr",
     "output_type": "stream",
     "text": [
      "c:\\python37\\lib\\site-packages\\ipykernel_launcher.py:22: UserWarning: With alpha=0, this algorithm does not converge well. You are advised to use the LinearRegression estimator\n",
      "c:\\python37\\lib\\site-packages\\sklearn\\linear_model\\coordinate_descent.py:475: UserWarning: Coordinate descent with no regularization may lead to unexpected results and is discouraged.\n",
      "  positive)\n",
      "c:\\python37\\lib\\site-packages\\sklearn\\linear_model\\coordinate_descent.py:475: ConvergenceWarning: Objective did not converge. You might want to increase the number of iterations. Duality gap: 433582.89103881526, tolerance: 289.8351889409168\n",
      "  positive)\n",
      "c:\\python37\\lib\\site-packages\\sklearn\\linear_model\\coordinate_descent.py:475: ConvergenceWarning: Objective did not converge. You might want to increase the number of iterations. Duality gap: 435145.95072779345, tolerance: 289.8351889409168\n",
      "  positive)\n",
      "c:\\python37\\lib\\site-packages\\sklearn\\linear_model\\coordinate_descent.py:475: ConvergenceWarning: Objective did not converge. You might want to increase the number of iterations. Duality gap: 436591.6025115655, tolerance: 289.8351889409168\n",
      "  positive)\n",
      "c:\\python37\\lib\\site-packages\\sklearn\\linear_model\\coordinate_descent.py:475: ConvergenceWarning: Objective did not converge. You might want to increase the number of iterations. Duality gap: 437919.84508988314, tolerance: 289.8351889409168\n",
      "  positive)\n",
      "c:\\python37\\lib\\site-packages\\sklearn\\linear_model\\coordinate_descent.py:475: ConvergenceWarning: Objective did not converge. You might want to increase the number of iterations. Duality gap: 439130.67760221666, tolerance: 289.8351889409168\n",
      "  positive)\n",
      "c:\\python37\\lib\\site-packages\\sklearn\\linear_model\\coordinate_descent.py:475: ConvergenceWarning: Objective did not converge. You might want to increase the number of iterations. Duality gap: 440224.098413976, tolerance: 289.8351889409168\n",
      "  positive)\n",
      "c:\\python37\\lib\\site-packages\\sklearn\\linear_model\\coordinate_descent.py:475: ConvergenceWarning: Objective did not converge. You might want to increase the number of iterations. Duality gap: 441200.10418362485, tolerance: 289.8351889409168\n",
      "  positive)\n",
      "c:\\python37\\lib\\site-packages\\sklearn\\linear_model\\coordinate_descent.py:475: ConvergenceWarning: Objective did not converge. You might want to increase the number of iterations. Duality gap: 442058.6937305382, tolerance: 289.8351889409168\n",
      "  positive)\n",
      "c:\\python37\\lib\\site-packages\\sklearn\\linear_model\\coordinate_descent.py:475: ConvergenceWarning: Objective did not converge. You might want to increase the number of iterations. Duality gap: 442806.8431118051, tolerance: 289.8351889409168\n",
      "  positive)\n",
      "c:\\python37\\lib\\site-packages\\sklearn\\linear_model\\coordinate_descent.py:475: ConvergenceWarning: Objective did not converge. You might want to increase the number of iterations. Duality gap: 443448.77402135317, tolerance: 289.8351889409168\n",
      "  positive)\n",
      "c:\\python37\\lib\\site-packages\\sklearn\\linear_model\\coordinate_descent.py:475: ConvergenceWarning: Objective did not converge. You might want to increase the number of iterations. Duality gap: 444063.7053791025, tolerance: 289.8351889409168\n",
      "  positive)\n",
      "c:\\python37\\lib\\site-packages\\sklearn\\linear_model\\coordinate_descent.py:475: ConvergenceWarning: Objective did not converge. You might want to increase the number of iterations. Duality gap: 444639.6393883157, tolerance: 289.8351889409168\n",
      "  positive)\n",
      "c:\\python37\\lib\\site-packages\\sklearn\\linear_model\\coordinate_descent.py:475: ConvergenceWarning: Objective did not converge. You might want to increase the number of iterations. Duality gap: 445165.7092341778, tolerance: 289.8351889409168\n",
      "  positive)\n",
      "c:\\python37\\lib\\site-packages\\sklearn\\linear_model\\coordinate_descent.py:475: ConvergenceWarning: Objective did not converge. You might want to increase the number of iterations. Duality gap: 445648.45263155753, tolerance: 289.8351889409168\n",
      "  positive)\n",
      "c:\\python37\\lib\\site-packages\\sklearn\\linear_model\\coordinate_descent.py:475: ConvergenceWarning: Objective did not converge. You might want to increase the number of iterations. Duality gap: 446145.42402681476, tolerance: 289.8351889409168\n",
      "  positive)\n",
      "c:\\python37\\lib\\site-packages\\sklearn\\linear_model\\coordinate_descent.py:475: ConvergenceWarning: Objective did not converge. You might want to increase the number of iterations. Duality gap: 446625.417685836, tolerance: 289.8351889409168\n",
      "  positive)\n",
      "c:\\python37\\lib\\site-packages\\sklearn\\linear_model\\coordinate_descent.py:475: ConvergenceWarning: Objective did not converge. You might want to increase the number of iterations. Duality gap: 447080.13272285875, tolerance: 289.8351889409168\n",
      "  positive)\n",
      "c:\\python37\\lib\\site-packages\\sklearn\\linear_model\\coordinate_descent.py:475: ConvergenceWarning: Objective did not converge. You might want to increase the number of iterations. Duality gap: 447506.4446172214, tolerance: 289.8351889409168\n",
      "  positive)\n",
      "c:\\python37\\lib\\site-packages\\sklearn\\linear_model\\coordinate_descent.py:475: ConvergenceWarning: Objective did not converge. You might want to increase the number of iterations. Duality gap: 447903.26878482, tolerance: 289.8351889409168\n",
      "  positive)\n",
      "c:\\python37\\lib\\site-packages\\sklearn\\linear_model\\coordinate_descent.py:475: ConvergenceWarning: Objective did not converge. You might want to increase the number of iterations. Duality gap: 448269.3519382225, tolerance: 289.8351889409168\n",
      "  positive)\n",
      "c:\\python37\\lib\\site-packages\\sklearn\\linear_model\\coordinate_descent.py:475: ConvergenceWarning: Objective did not converge. You might want to increase the number of iterations. Duality gap: 448604.25766566716, tolerance: 289.8351889409168\n",
      "  positive)\n",
      "c:\\python37\\lib\\site-packages\\sklearn\\linear_model\\coordinate_descent.py:475: ConvergenceWarning: Objective did not converge. You might want to increase the number of iterations. Duality gap: 448907.70126972, tolerance: 289.8351889409168\n",
      "  positive)\n",
      "c:\\python37\\lib\\site-packages\\sklearn\\linear_model\\coordinate_descent.py:475: ConvergenceWarning: Objective did not converge. You might want to increase the number of iterations. Duality gap: 449179.5537219257, tolerance: 289.8351889409168\n",
      "  positive)\n",
      "c:\\python37\\lib\\site-packages\\sklearn\\linear_model\\coordinate_descent.py:475: ConvergenceWarning: Objective did not converge. You might want to increase the number of iterations. Duality gap: 449419.6696644628, tolerance: 289.8351889409168\n",
      "  positive)\n",
      "c:\\python37\\lib\\site-packages\\sklearn\\linear_model\\coordinate_descent.py:475: ConvergenceWarning: Objective did not converge. You might want to increase the number of iterations. Duality gap: 449627.9217889731, tolerance: 289.8351889409168\n",
      "  positive)\n",
      "c:\\python37\\lib\\site-packages\\sklearn\\linear_model\\coordinate_descent.py:475: ConvergenceWarning: Objective did not converge. You might want to increase the number of iterations. Duality gap: 449803.94834424, tolerance: 289.8351889409168\n",
      "  positive)\n",
      "c:\\python37\\lib\\site-packages\\sklearn\\linear_model\\coordinate_descent.py:475: ConvergenceWarning: Objective did not converge. You might want to increase the number of iterations. Duality gap: 449948.18049181893, tolerance: 289.8351889409168\n",
      "  positive)\n",
      "c:\\python37\\lib\\site-packages\\sklearn\\linear_model\\coordinate_descent.py:475: ConvergenceWarning: Objective did not converge. You might want to increase the number of iterations. Duality gap: 450094.2923119941, tolerance: 289.8351889409168\n",
      "  positive)\n",
      "c:\\python37\\lib\\site-packages\\sklearn\\linear_model\\coordinate_descent.py:475: ConvergenceWarning: Objective did not converge. You might want to increase the number of iterations. Duality gap: 450258.71265680075, tolerance: 289.8351889409168\n",
      "  positive)\n",
      "c:\\python37\\lib\\site-packages\\sklearn\\linear_model\\coordinate_descent.py:475: ConvergenceWarning: Objective did not converge. You might want to increase the number of iterations. Duality gap: 450419.7506410213, tolerance: 289.8351889409168\n",
      "  positive)\n",
      "c:\\python37\\lib\\site-packages\\sklearn\\linear_model\\coordinate_descent.py:475: ConvergenceWarning: Objective did not converge. You might want to increase the number of iterations. Duality gap: 450576.7017476792, tolerance: 289.8351889409168\n",
      "  positive)\n",
      "c:\\python37\\lib\\site-packages\\sklearn\\linear_model\\coordinate_descent.py:475: ConvergenceWarning: Objective did not converge. You might want to increase the number of iterations. Duality gap: 450729.90737459343, tolerance: 289.8351889409168\n",
      "  positive)\n",
      "c:\\python37\\lib\\site-packages\\sklearn\\linear_model\\coordinate_descent.py:475: ConvergenceWarning: Objective did not converge. You might want to increase the number of iterations. Duality gap: 450878.8744489555, tolerance: 289.8351889409168\n",
      "  positive)\n",
      "c:\\python37\\lib\\site-packages\\sklearn\\linear_model\\coordinate_descent.py:475: ConvergenceWarning: Objective did not converge. You might want to increase the number of iterations. Duality gap: 451026.3454449278, tolerance: 289.8351889409168\n",
      "  positive)\n",
      "c:\\python37\\lib\\site-packages\\sklearn\\linear_model\\coordinate_descent.py:475: ConvergenceWarning: Objective did not converge. You might want to increase the number of iterations. Duality gap: 451191.41491213016, tolerance: 289.8351889409168\n",
      "  positive)\n",
      "c:\\python37\\lib\\site-packages\\sklearn\\linear_model\\coordinate_descent.py:475: ConvergenceWarning: Objective did not converge. You might want to increase the number of iterations. Duality gap: 451354.55713895045, tolerance: 289.8351889409168\n",
      "  positive)\n",
      "c:\\python37\\lib\\site-packages\\sklearn\\linear_model\\coordinate_descent.py:475: ConvergenceWarning: Objective did not converge. You might want to increase the number of iterations. Duality gap: 451515.30602683715, tolerance: 289.8351889409168\n",
      "  positive)\n",
      "c:\\python37\\lib\\site-packages\\sklearn\\linear_model\\coordinate_descent.py:475: ConvergenceWarning: Objective did not converge. You might want to increase the number of iterations. Duality gap: 451673.92051892524, tolerance: 289.8351889409168\n",
      "  positive)\n",
      "c:\\python37\\lib\\site-packages\\sklearn\\linear_model\\coordinate_descent.py:475: ConvergenceWarning: Objective did not converge. You might want to increase the number of iterations. Duality gap: 451830.18441729725, tolerance: 289.8351889409168\n",
      "  positive)\n",
      "c:\\python37\\lib\\site-packages\\sklearn\\linear_model\\coordinate_descent.py:475: ConvergenceWarning: Objective did not converge. You might want to increase the number of iterations. Duality gap: 451984.21325500554, tolerance: 289.8351889409168\n",
      "  positive)\n",
      "c:\\python37\\lib\\site-packages\\sklearn\\linear_model\\coordinate_descent.py:475: ConvergenceWarning: Objective did not converge. You might want to increase the number of iterations. Duality gap: 452136.2523688961, tolerance: 289.8351889409168\n",
      "  positive)\n",
      "c:\\python37\\lib\\site-packages\\sklearn\\linear_model\\coordinate_descent.py:475: ConvergenceWarning: Objective did not converge. You might want to increase the number of iterations. Duality gap: 452286.0587260912, tolerance: 289.8351889409168\n",
      "  positive)\n",
      "c:\\python37\\lib\\site-packages\\sklearn\\linear_model\\coordinate_descent.py:475: ConvergenceWarning: Objective did not converge. You might want to increase the number of iterations. Duality gap: 452433.6298131008, tolerance: 289.8351889409168\n",
      "  positive)\n",
      "c:\\python37\\lib\\site-packages\\sklearn\\linear_model\\coordinate_descent.py:475: ConvergenceWarning: Objective did not converge. You might want to increase the number of iterations. Duality gap: 452578.84304677724, tolerance: 289.8351889409168\n",
      "  positive)\n",
      "c:\\python37\\lib\\site-packages\\sklearn\\linear_model\\coordinate_descent.py:475: ConvergenceWarning: Objective did not converge. You might want to increase the number of iterations. Duality gap: 452722.480014759, tolerance: 289.8351889409168\n",
      "  positive)\n",
      "c:\\python37\\lib\\site-packages\\sklearn\\linear_model\\coordinate_descent.py:475: ConvergenceWarning: Objective did not converge. You might want to increase the number of iterations. Duality gap: 452863.7822157426, tolerance: 289.8351889409168\n",
      "  positive)\n",
      "c:\\python37\\lib\\site-packages\\sklearn\\linear_model\\coordinate_descent.py:475: ConvergenceWarning: Objective did not converge. You might want to increase the number of iterations. Duality gap: 453002.773815091, tolerance: 289.8351889409168\n",
      "  positive)\n",
      "c:\\python37\\lib\\site-packages\\sklearn\\linear_model\\coordinate_descent.py:475: ConvergenceWarning: Objective did not converge. You might want to increase the number of iterations. Duality gap: 453140.1596244923, tolerance: 289.8351889409168\n",
      "  positive)\n",
      "c:\\python37\\lib\\site-packages\\sklearn\\linear_model\\coordinate_descent.py:475: ConvergenceWarning: Objective did not converge. You might want to increase the number of iterations. Duality gap: 453274.98116542306, tolerance: 289.8351889409168\n",
      "  positive)\n",
      "c:\\python37\\lib\\site-packages\\sklearn\\linear_model\\coordinate_descent.py:475: ConvergenceWarning: Objective did not converge. You might want to increase the number of iterations. Duality gap: 453407.6177523619, tolerance: 289.8351889409168\n",
      "  positive)\n"
     ]
    },
    {
     "name": "stderr",
     "output_type": "stream",
     "text": [
      "c:\\python37\\lib\\site-packages\\sklearn\\linear_model\\coordinate_descent.py:475: ConvergenceWarning: Objective did not converge. You might want to increase the number of iterations. Duality gap: 453538.83267207415, tolerance: 289.8351889409168\n",
      "  positive)\n",
      "c:\\python37\\lib\\site-packages\\sklearn\\linear_model\\coordinate_descent.py:475: ConvergenceWarning: Objective did not converge. You might want to increase the number of iterations. Duality gap: 453667.7539528101, tolerance: 289.8351889409168\n",
      "  positive)\n",
      "c:\\python37\\lib\\site-packages\\sklearn\\linear_model\\coordinate_descent.py:475: ConvergenceWarning: Objective did not converge. You might want to increase the number of iterations. Duality gap: 453793.8379396146, tolerance: 289.8351889409168\n",
      "  positive)\n",
      "c:\\python37\\lib\\site-packages\\sklearn\\linear_model\\coordinate_descent.py:475: ConvergenceWarning: Objective did not converge. You might want to increase the number of iterations. Duality gap: 453918.6879757502, tolerance: 289.8351889409168\n",
      "  positive)\n",
      "c:\\python37\\lib\\site-packages\\sklearn\\linear_model\\coordinate_descent.py:475: ConvergenceWarning: Objective did not converge. You might want to increase the number of iterations. Duality gap: 454041.85144816985, tolerance: 289.8351889409168\n",
      "  positive)\n",
      "c:\\python37\\lib\\site-packages\\sklearn\\linear_model\\coordinate_descent.py:475: ConvergenceWarning: Objective did not converge. You might want to increase the number of iterations. Duality gap: 454162.92034539045, tolerance: 289.8351889409168\n",
      "  positive)\n",
      "c:\\python37\\lib\\site-packages\\sklearn\\linear_model\\coordinate_descent.py:475: ConvergenceWarning: Objective did not converge. You might want to increase the number of iterations. Duality gap: 454282.6923684341, tolerance: 289.8351889409168\n",
      "  positive)\n",
      "c:\\python37\\lib\\site-packages\\sklearn\\linear_model\\coordinate_descent.py:475: ConvergenceWarning: Objective did not converge. You might want to increase the number of iterations. Duality gap: 454399.27791027934, tolerance: 289.8351889409168\n",
      "  positive)\n",
      "c:\\python37\\lib\\site-packages\\sklearn\\linear_model\\coordinate_descent.py:475: ConvergenceWarning: Objective did not converge. You might want to increase the number of iterations. Duality gap: 454514.59856587223, tolerance: 289.8351889409168\n",
      "  positive)\n",
      "c:\\python37\\lib\\site-packages\\sklearn\\linear_model\\coordinate_descent.py:475: ConvergenceWarning: Objective did not converge. You might want to increase the number of iterations. Duality gap: 454628.01802476775, tolerance: 289.8351889409168\n",
      "  positive)\n",
      "c:\\python37\\lib\\site-packages\\sklearn\\linear_model\\coordinate_descent.py:475: ConvergenceWarning: Objective did not converge. You might want to increase the number of iterations. Duality gap: 454739.33183445234, tolerance: 289.8351889409168\n",
      "  positive)\n",
      "c:\\python37\\lib\\site-packages\\sklearn\\linear_model\\coordinate_descent.py:475: ConvergenceWarning: Objective did not converge. You might want to increase the number of iterations. Duality gap: 454848.68430250476, tolerance: 289.8351889409168\n",
      "  positive)\n",
      "c:\\python37\\lib\\site-packages\\sklearn\\linear_model\\coordinate_descent.py:475: ConvergenceWarning: Objective did not converge. You might want to increase the number of iterations. Duality gap: 454956.50206327817, tolerance: 289.8351889409168\n",
      "  positive)\n",
      "c:\\python37\\lib\\site-packages\\sklearn\\linear_model\\coordinate_descent.py:475: ConvergenceWarning: Objective did not converge. You might want to increase the number of iterations. Duality gap: 455062.49339416897, tolerance: 289.8351889409168\n",
      "  positive)\n",
      "c:\\python37\\lib\\site-packages\\sklearn\\linear_model\\coordinate_descent.py:475: ConvergenceWarning: Objective did not converge. You might want to increase the number of iterations. Duality gap: 455165.85751069465, tolerance: 289.8351889409168\n",
      "  positive)\n",
      "c:\\python37\\lib\\site-packages\\sklearn\\linear_model\\coordinate_descent.py:475: ConvergenceWarning: Objective did not converge. You might want to increase the number of iterations. Duality gap: 455267.34583370003, tolerance: 289.8351889409168\n",
      "  positive)\n",
      "c:\\python37\\lib\\site-packages\\sklearn\\linear_model\\coordinate_descent.py:475: ConvergenceWarning: Objective did not converge. You might want to increase the number of iterations. Duality gap: 455367.40798341896, tolerance: 289.8351889409168\n",
      "  positive)\n",
      "c:\\python37\\lib\\site-packages\\sklearn\\linear_model\\coordinate_descent.py:475: ConvergenceWarning: Objective did not converge. You might want to increase the number of iterations. Duality gap: 455465.50630382303, tolerance: 289.8351889409168\n",
      "  positive)\n",
      "c:\\python37\\lib\\site-packages\\sklearn\\linear_model\\coordinate_descent.py:475: ConvergenceWarning: Objective did not converge. You might want to increase the number of iterations. Duality gap: 455562.3794313593, tolerance: 289.8351889409168\n",
      "  positive)\n",
      "c:\\python37\\lib\\site-packages\\sklearn\\linear_model\\coordinate_descent.py:475: ConvergenceWarning: Objective did not converge. You might want to increase the number of iterations. Duality gap: 455657.42076048715, tolerance: 289.8351889409168\n",
      "  positive)\n",
      "c:\\python37\\lib\\site-packages\\sklearn\\linear_model\\coordinate_descent.py:475: ConvergenceWarning: Objective did not converge. You might want to increase the number of iterations. Duality gap: 455749.94453433284, tolerance: 289.8351889409168\n",
      "  positive)\n",
      "c:\\python37\\lib\\site-packages\\sklearn\\linear_model\\coordinate_descent.py:475: ConvergenceWarning: Objective did not converge. You might want to increase the number of iterations. Duality gap: 455840.1115750194, tolerance: 289.8351889409168\n",
      "  positive)\n",
      "c:\\python37\\lib\\site-packages\\sklearn\\linear_model\\coordinate_descent.py:475: ConvergenceWarning: Objective did not converge. You might want to increase the number of iterations. Duality gap: 455928.5132238204, tolerance: 289.8351889409168\n",
      "  positive)\n",
      "c:\\python37\\lib\\site-packages\\sklearn\\linear_model\\coordinate_descent.py:475: ConvergenceWarning: Objective did not converge. You might want to increase the number of iterations. Duality gap: 456016.04273866414, tolerance: 289.8351889409168\n",
      "  positive)\n",
      "c:\\python37\\lib\\site-packages\\sklearn\\linear_model\\coordinate_descent.py:475: ConvergenceWarning: Objective did not converge. You might want to increase the number of iterations. Duality gap: 456100.9319051574, tolerance: 289.8351889409168\n",
      "  positive)\n",
      "c:\\python37\\lib\\site-packages\\sklearn\\linear_model\\coordinate_descent.py:475: ConvergenceWarning: Objective did not converge. You might want to increase the number of iterations. Duality gap: 456183.8298785989, tolerance: 289.8351889409168\n",
      "  positive)\n",
      "c:\\python37\\lib\\site-packages\\sklearn\\linear_model\\coordinate_descent.py:475: ConvergenceWarning: Objective did not converge. You might want to increase the number of iterations. Duality gap: 456266.3103332853, tolerance: 289.8351889409168\n",
      "  positive)\n",
      "c:\\python37\\lib\\site-packages\\sklearn\\linear_model\\coordinate_descent.py:475: ConvergenceWarning: Objective did not converge. You might want to increase the number of iterations. Duality gap: 456344.90727928677, tolerance: 289.8351889409168\n",
      "  positive)\n",
      "c:\\python37\\lib\\site-packages\\sklearn\\linear_model\\coordinate_descent.py:475: ConvergenceWarning: Objective did not converge. You might want to increase the number of iterations. Duality gap: 456423.4032091123, tolerance: 289.8351889409168\n",
      "  positive)\n",
      "c:\\python37\\lib\\site-packages\\sklearn\\linear_model\\coordinate_descent.py:475: ConvergenceWarning: Objective did not converge. You might want to increase the number of iterations. Duality gap: 456498.4056282794, tolerance: 289.8351889409168\n",
      "  positive)\n",
      "c:\\python37\\lib\\site-packages\\sklearn\\linear_model\\coordinate_descent.py:475: ConvergenceWarning: Objective did not converge. You might want to increase the number of iterations. Duality gap: 456572.9758507529, tolerance: 289.8351889409168\n",
      "  positive)\n",
      "c:\\python37\\lib\\site-packages\\sklearn\\linear_model\\coordinate_descent.py:475: ConvergenceWarning: Objective did not converge. You might want to increase the number of iterations. Duality gap: 456645.33404738666, tolerance: 289.8351889409168\n",
      "  positive)\n",
      "c:\\python37\\lib\\site-packages\\sklearn\\linear_model\\coordinate_descent.py:475: ConvergenceWarning: Objective did not converge. You might want to increase the number of iterations. Duality gap: 456715.180901717, tolerance: 289.8351889409168\n",
      "  positive)\n",
      "c:\\python37\\lib\\site-packages\\sklearn\\linear_model\\coordinate_descent.py:475: ConvergenceWarning: Objective did not converge. You might want to increase the number of iterations. Duality gap: 456784.2681319297, tolerance: 289.8351889409168\n",
      "  positive)\n",
      "c:\\python37\\lib\\site-packages\\sklearn\\linear_model\\coordinate_descent.py:475: ConvergenceWarning: Objective did not converge. You might want to increase the number of iterations. Duality gap: 456851.5025007151, tolerance: 289.8351889409168\n",
      "  positive)\n",
      "c:\\python37\\lib\\site-packages\\sklearn\\linear_model\\coordinate_descent.py:475: ConvergenceWarning: Objective did not converge. You might want to increase the number of iterations. Duality gap: 456915.0190588085, tolerance: 289.8351889409168\n",
      "  positive)\n",
      "c:\\python37\\lib\\site-packages\\sklearn\\linear_model\\coordinate_descent.py:475: ConvergenceWarning: Objective did not converge. You might want to increase the number of iterations. Duality gap: 456978.6080950845, tolerance: 289.8351889409168\n",
      "  positive)\n",
      "c:\\python37\\lib\\site-packages\\sklearn\\linear_model\\coordinate_descent.py:475: ConvergenceWarning: Objective did not converge. You might want to increase the number of iterations. Duality gap: 457039.9241524598, tolerance: 289.8351889409168\n",
      "  positive)\n",
      "c:\\python37\\lib\\site-packages\\sklearn\\linear_model\\coordinate_descent.py:475: ConvergenceWarning: Objective did not converge. You might want to increase the number of iterations. Duality gap: 457099.74720274337, tolerance: 289.8351889409168\n",
      "  positive)\n",
      "c:\\python37\\lib\\site-packages\\sklearn\\linear_model\\coordinate_descent.py:475: ConvergenceWarning: Objective did not converge. You might want to increase the number of iterations. Duality gap: 457157.4771800159, tolerance: 289.8351889409168\n",
      "  positive)\n",
      "c:\\python37\\lib\\site-packages\\sklearn\\linear_model\\coordinate_descent.py:475: ConvergenceWarning: Objective did not converge. You might want to increase the number of iterations. Duality gap: 457213.6389883813, tolerance: 289.8351889409168\n",
      "  positive)\n",
      "c:\\python37\\lib\\site-packages\\sklearn\\linear_model\\coordinate_descent.py:475: ConvergenceWarning: Objective did not converge. You might want to increase the number of iterations. Duality gap: 457267.5645318885, tolerance: 289.8351889409168\n",
      "  positive)\n",
      "c:\\python37\\lib\\site-packages\\sklearn\\linear_model\\coordinate_descent.py:475: ConvergenceWarning: Objective did not converge. You might want to increase the number of iterations. Duality gap: 457319.919307273, tolerance: 289.8351889409168\n",
      "  positive)\n",
      "c:\\python37\\lib\\site-packages\\sklearn\\linear_model\\coordinate_descent.py:475: ConvergenceWarning: Objective did not converge. You might want to increase the number of iterations. Duality gap: 457370.46305051795, tolerance: 289.8351889409168\n",
      "  positive)\n",
      "c:\\python37\\lib\\site-packages\\sklearn\\linear_model\\coordinate_descent.py:475: ConvergenceWarning: Objective did not converge. You might want to increase the number of iterations. Duality gap: 457418.8831965637, tolerance: 289.8351889409168\n",
      "  positive)\n",
      "c:\\python37\\lib\\site-packages\\sklearn\\linear_model\\coordinate_descent.py:475: ConvergenceWarning: Objective did not converge. You might want to increase the number of iterations. Duality gap: 457465.75141210546, tolerance: 289.8351889409168\n",
      "  positive)\n",
      "c:\\python37\\lib\\site-packages\\sklearn\\linear_model\\coordinate_descent.py:475: ConvergenceWarning: Objective did not converge. You might want to increase the number of iterations. Duality gap: 457510.5071077327, tolerance: 289.8351889409168\n",
      "  positive)\n",
      "c:\\python37\\lib\\site-packages\\sklearn\\linear_model\\coordinate_descent.py:475: ConvergenceWarning: Objective did not converge. You might want to increase the number of iterations. Duality gap: 457553.40212369105, tolerance: 289.8351889409168\n",
      "  positive)\n",
      "c:\\python37\\lib\\site-packages\\sklearn\\linear_model\\coordinate_descent.py:475: ConvergenceWarning: Objective did not converge. You might want to increase the number of iterations. Duality gap: 457594.4605650189, tolerance: 289.8351889409168\n",
      "  positive)\n",
      "c:\\python37\\lib\\site-packages\\sklearn\\linear_model\\coordinate_descent.py:475: ConvergenceWarning: Objective did not converge. You might want to increase the number of iterations. Duality gap: 457634.0849346944, tolerance: 289.8351889409168\n",
      "  positive)\n"
     ]
    },
    {
     "data": {
      "image/png": "[encoded data removed]",
      "text/plain": [
       "<Figure size 432x288 with 1 Axes>"
      ]
     },
     "metadata": {
      "needs_background": "light"
     },
     "output_type": "display_data"
    }
   ],
   "source": [
    "# Vaš kôd ovdje\n",
    "\n",
    "from sklearn.linear_model import Lasso\n",
    "\n",
    "X = make_instances(-5, 5, 50)\n",
    "y = list(make_labels(X, f, 200))\n",
    "y = np.array(y)\n",
    "\n",
    "poly = PolynomialFeatures(25)\n",
    "design_matrix = poly.fit_transform(X)\n",
    "X_train, X_test, y_train, y_test = train_test_split(design_matrix, y, test_size=0.5)\n",
    "\n",
    "reg_factors=list(range(0, 100))\n",
    "\n",
    "L0 = []\n",
    "L1 = []\n",
    "L2 = []\n",
    "\n",
    "\n",
    "for reg_factor in reg_factors:\n",
    "    clf = Lasso(alpha = reg_factor)\n",
    "    clf.fit(X_train, y_train)\n",
    "\n",
    "\n",
    "\n",
    "    w0=clf.intercept_\n",
    "    w=clf.coef_\n",
    "    weights=w+w0\n",
    "    weights=weights.flatten()\n",
    "    \n",
    "    L0_norm = nonzeroes(weights)\n",
    "    L1_norm = np.sum(abs(weights))\n",
    "    L2_norm = np.sqrt(np.matmul(weights.transpose(), weights))\n",
    "        \n",
    "    L0.append(L0_norm)\n",
    "    L1.append(L1_norm)\n",
    "    L2.append(L2_norm)\n",
    "\n",
    "plt.plot(reg_factors, L0, label=\"L0\")\n",
    "plt.plot(reg_factors, L1, label=\"L1\")\n",
    "plt.plot(reg_factors, L2, label=\"L2\")\n",
    "plt.legend()\n",
    "plt.show()"
   ]
  },
  {
   "cell_type": "markdown",
   "metadata": {},
   "source": [
    "### 7. Značajke različitih skala"
   ]
  },
  {
   "cell_type": "markdown",
   "metadata": {},
   "source": [
    "Često se u praksi možemo susreti sa podatcima u kojima sve značajke nisu jednakih magnituda. Primjer jednog takvog skupa je regresijski skup podataka `grades` u kojem se predviđa prosjek ocjena studenta na studiju (1--5) na temelju dvije značajke: bodova na prijamnom ispitu (1--3000) i prosjeka ocjena u srednjoj školi. Prosjek ocjena na studiju izračunat je kao težinska suma ove dvije značajke uz dodani šum.\n",
    "\n",
    "Koristite sljedeći kôd kako biste generirali ovaj skup podataka."
   ]
  },
  {
   "cell_type": "code",
   "execution_count": 27,
   "metadata": {},
   "outputs": [],
   "source": [
    "n_data_points = 500\n",
    "np.random.seed(69)\n",
    "\n",
    "# Generiraj podatke o bodovima na prijamnom ispitu koristeći normalnu razdiobu i ograniči ih na interval [1, 3000].\n",
    "exam_score = np.random.normal(loc=1500.0, scale = 500.0, size = n_data_points) \n",
    "exam_score = np.round(exam_score)\n",
    "exam_score[exam_score > 3000] = 3000\n",
    "exam_score[exam_score < 0] = 0\n",
    "\n",
    "# Generiraj podatke o ocjenama iz srednje škole koristeći normalnu razdiobu i ograniči ih na interval [1, 5].\n",
    "grade_in_highschool = np.random.normal(loc=3, scale = 2.0, size = n_data_points)\n",
    "grade_in_highschool[grade_in_highschool > 5] = 5\n",
    "grade_in_highschool[grade_in_highschool < 1] = 1\n",
    "\n",
    "# Matrica dizajna.\n",
    "grades_X = np.array([exam_score,grade_in_highschool]).T\n",
    "\n",
    "# Završno, generiraj izlazne vrijednosti.\n",
    "rand_noise = np.random.normal(loc=0.0, scale = 0.5, size = n_data_points)\n",
    "exam_influence = 0.9\n",
    "grades_y = ((exam_score / 3000.0) * (exam_influence) + (grade_in_highschool / 5.0) \\\n",
    "            * (1.0 - exam_influence)) * 5.0 + rand_noise\n",
    "grades_y[grades_y < 1] = 1\n",
    "grades_y[grades_y > 5] = 5"
   ]
  },
  {
   "cell_type": "markdown",
   "metadata": {},
   "source": [
    "**a)** Iscrtajte ovisnost ciljne vrijednosti (y-os) o prvoj i o drugoj značajki (x-os). Iscrtajte dva odvojena grafa."
   ]
  },
  {
   "cell_type": "code",
   "execution_count": 28,
   "metadata": {},
   "outputs": [
    {
     "data": {
      "image/png": "[encoded data removed]",
      "text/plain": [
       "<Figure size 432x288 with 1 Axes>"
      ]
     },
     "metadata": {
      "needs_background": "light"
     },
     "output_type": "display_data"
    },
    {
     "data": {
      "image/png": "[encoded data removed]",
      "text/plain": [
       "<Figure size 432x288 with 1 Axes>"
      ]
     },
     "metadata": {
      "needs_background": "light"
     },
     "output_type": "display_data"
    }
   ],
   "source": [
    "# Vaš kôd ovdje\n",
    "\n",
    "exam_score1=[]\n",
    "grades_in_highschool1=[]\n",
    "for grade_X in grades_X:\n",
    "    exam_score1.append(grade_X[0])\n",
    "    grades_in_highschool1.append(grade_X[1])\n",
    "    \n",
    "    \n",
    "plt.scatter(exam_score1, grades_y)\n",
    "plt.title(\"Prosjeka ocjena na studiju - prijemni ispit\")\n",
    "plt.show()\n",
    "\n",
    "plt.scatter(grades_in_highschool1, grades_y)\n",
    "plt.title(\"Prosjeka ocjena na studiju - prosjek ocjena u srednjoj skoli\")\n",
    "plt.show()"
   ]
  },
  {
   "cell_type": "markdown",
   "metadata": {},
   "source": [
    "**b)** Naučite model L2-regularizirane regresije ($\\lambda = 0.01$), na podacima `grades_X` i `grades_y`:"
   ]
  },
  {
   "cell_type": "code",
   "execution_count": 29,
   "metadata": {},
   "outputs": [
    {
     "name": "stdout",
     "output_type": "stream",
     "text": [
      "[0.15061179575775974, 0.0014149686631874095, 0.09477275879174112]\n"
     ]
    }
   ],
   "source": [
    "# Vaš kôd ovdje\n",
    "\n",
    "clf = Ridge(alpha = 0.01)\n",
    "clf.fit(grades_X, grades_y)\n",
    "weights = []\n",
    "\n",
    "weights.append(clf.intercept_)\n",
    "weights.extend(list(clf.coef_))\n",
    "\n",
    "print (weights)\n"
   ]
  },
  {
   "cell_type": "markdown",
   "metadata": {},
   "source": [
    "Sada ponovite gornji eksperiment, ali prvo skalirajte podatke `grades_X` i `grades_y` i spremite ih u varijable `grades_X_fixed` i `grades_y_fixed`. Za tu svrhu, koristite [`StandardScaler`](http://scikit-learn.org/stable/modules/generated/sklearn.preprocessing.StandardScaler.html)."
   ]
  },
  {
   "cell_type": "code",
   "execution_count": 30,
   "metadata": {},
   "outputs": [],
   "source": [
    "from sklearn.preprocessing import StandardScaler"
   ]
  },
  {
   "cell_type": "code",
   "execution_count": 31,
   "metadata": {},
   "outputs": [
    {
     "name": "stdout",
     "output_type": "stream",
     "text": [
      "[8.625513311328875e-17, 0.8163037502836595, 0.15167761205975835]\n"
     ]
    }
   ],
   "source": [
    "# Vaš kôd ovdje\n",
    "\n",
    "scaler = StandardScaler()\n",
    "scaler.fit(grades_X)\n",
    "grades_X_fixed= scaler.transform(grades_X)\n",
    "scaler.fit(np.reshape(grades_y,(-1,1)))\n",
    "grades_y_fixed = scaler.transform(np.reshape(grades_y,(-1,1)))\n",
    "\n",
    "clf = Ridge(alpha=0.01)\n",
    "clf.fit(grades_X_fixed, grades_y_fixed)\n",
    "\n",
    "weights = []\n",
    "weights.append(clf.intercept_[0])\n",
    "weights.extend(clf.coef_[0])\n",
    "\n",
    "\n",
    "print(weights)"
   ]
  },
  {
   "cell_type": "markdown",
   "metadata": {},
   "source": [
    "**Q:** Gledajući grafikone iz podzadatka (a), koja značajka bi trebala imati veću magnitudu, odnosno važnost pri predikciji prosjeka na studiju? Odgovaraju li težine Vašoj intuiciji? Objasnite.  "
   ]
  },
  {
   "cell_type": "markdown",
   "metadata": {},
   "source": [
    "### 8. Multikolinearnost i kondicija matrice"
   ]
  },
  {
   "cell_type": "markdown",
   "metadata": {},
   "source": [
    "**a)** Izradite skup podataka `grades_X_fixed_colinear` tako što ćete u skupu `grades_X_fixed` iz\n",
    "zadatka *7b* duplicirati zadnji stupac (ocjenu iz srednje škole). Time smo efektivno uveli savršenu multikolinearnost."
   ]
  },
  {
   "cell_type": "code",
   "execution_count": 32,
   "metadata": {},
   "outputs": [
    {
     "name": "stdout",
     "output_type": "stream",
     "text": [
      "[[ 0.95063817 -0.78607869 -0.78607869]\n",
      " [-0.50343434 -0.50193004 -0.50193004]\n",
      " [ 1.18596832 -0.52213172 -0.52213172]\n",
      " ...\n",
      " [-0.31593552  0.80074234  0.80074234]\n",
      " [ 0.81288393  1.24783236  1.24783236]\n",
      " [-0.01938126  1.21729714  1.21729714]]\n"
     ]
    }
   ],
   "source": [
    "# Vaš kôd ovdje\n",
    "\n",
    "exam_score2=[]\n",
    "grades_in_highschool2=[]\n",
    "for grade_X in grades_X_fixed:\n",
    "    exam_score2.append(grade_X[0])\n",
    "    grades_in_highschool2.append(grade_X[1])\n",
    "\n",
    "x=np.array(grades_in_highschool2)\n",
    "m=np.asmatrix(x).T\n",
    "\n",
    "grades_X_fixed_colinear=np.append(grades_X_fixed,m, axis=-1)\n",
    "\n",
    "print (grades_X_fixed_colinear)"
   ]
  },
  {
   "cell_type": "markdown",
   "metadata": {},
   "source": [
    "Ponovno, naučite na ovom skupu L2-regularizirani model regresije ($\\lambda = 0.01$)."
   ]
  },
  {
   "cell_type": "code",
   "execution_count": 33,
   "metadata": {},
   "outputs": [
    {
     "name": "stdout",
     "output_type": "stream",
     "text": [
      "[8.625597096332916e-17, 0.8163036374131405, 0.07583956858557664, 0.07583956858852901]\n"
     ]
    }
   ],
   "source": [
    "# Vaš kôd ovdje\n",
    "\n",
    "clf = Ridge(alpha=0.01)\n",
    "clf.fit(grades_X_fixed_colinear, grades_y_fixed)\n",
    "\n",
    "weights = []\n",
    "weights.append(clf.intercept_[0])\n",
    "weights.extend(clf.coef_[0])\n",
    "\n",
    "print (weights)\n",
    "\n"
   ]
  },
  {
   "cell_type": "markdown",
   "metadata": {},
   "source": [
    "**Q:** Usporedite iznose težina s onima koje ste dobili u zadatku *7b*. Što se dogodilo?"
   ]
  },
  {
   "cell_type": "markdown",
   "metadata": {},
   "source": [
    "**b)** Slučajno uzorkujte 50% elemenata iz skupa `grades_X_fixed_colinear` i naučite dva modela L2-regularizirane regresije, jedan s $\\lambda=0.01$ i jedan s $\\lambda=1000$). Ponovite ovaj pokus 10 puta (svaki put s drugim podskupom od 50% elemenata).  Za svaki model, ispišite dobiveni vektor težina u svih 10 ponavljanja te ispišite standardnu devijaciju vrijednosti svake od težina (ukupno šest standardnih devijacija, svaka dobivena nad 10 vrijednosti)."
   ]
  },
  {
   "cell_type": "code",
   "execution_count": 34,
   "metadata": {},
   "outputs": [
    {
     "name": "stdout",
     "output_type": "stream",
     "text": [
      "Pokus 0 lambda= 0.01  Težine: [ 7.64171817e-01 -2.24154984e+14  2.24154984e+14]\n",
      "Pokus 0 lambda= 1000  Težine: [0.1487578  0.02551896 0.02551896]\n",
      "Pokus 1 lambda= 0.01  Težine: [0.74742297 0.13464172 0.        ]\n",
      "Pokus 1 lambda= 1000  Težine: [0.15254524 0.03805593 0.03805593]\n",
      "Pokus 2 lambda= 0.01  Težine: [ 7.42909907e-01  3.22287604e+13 -3.22287604e+13]\n",
      "Pokus 2 lambda= 1000  Težine: [0.15107604 0.03616774 0.03616774]\n",
      "Pokus 3 lambda= 0.01  Težine: [0.72358368 0.06948478 0.06948478]\n",
      "Pokus 3 lambda= 1000  Težine: [0.14705785 0.02947751 0.02947751]\n",
      "Pokus 4 lambda= 0.01  Težine: [0.75936599 0.06302455 0.06302455]\n",
      "Pokus 4 lambda= 1000  Težine: [0.15491875 0.03612425 0.03612425]\n",
      "Pokus 5 lambda= 0.01  Težine: [0.74707865 0.09864338 0.09864338]\n",
      "Pokus 5 lambda= 1000  Težine: [0.13592283 0.03129226 0.03129226]\n",
      "Pokus 6 lambda= 0.01  Težine: [0.74974663 0.07942859 0.07942859]\n",
      "Pokus 6 lambda= 1000  Težine: [0.15645841 0.03912421 0.03912421]\n",
      "Pokus 7 lambda= 0.01  Težine: [ 7.42915962e-01  1.19233334e+13 -1.19233334e+13]\n",
      "Pokus 7 lambda= 1000  Težine: [0.15138045 0.03240555 0.03240555]\n",
      "Pokus 8 lambda= 0.01  Težine: [ 7.34705355e-01  1.25428147e+14 -1.25428147e+14]\n",
      "Pokus 8 lambda= 1000  Težine: [0.14536075 0.04594905 0.04594905]\n",
      "Pokus 9 lambda= 0.01  Težine: [ 0.7346628  -0.11051051  0.25      ]\n",
      "Pokus 9 lambda= 1000  Težine: [0.14614587 0.03194256 0.03194256]\n",
      "lambda =  0.01 Mean=  [ 4.46809388e-01 -2.72873716e+12  2.72873716e+12]\n",
      "lambda=  0.01 Standardna devijacija= [2.97980846e-01 5.78833377e+13 5.78833377e+13]\n",
      "lambda =  1000 Mean=  [ 4.46809388e-01 -2.72873716e+12  2.72873716e+12]\n",
      "lambda=  1000 Standardna devijacija= [2.97980846e-01 5.78833377e+13 5.78833377e+13]\n"
     ]
    },
    {
     "name": "stderr",
     "output_type": "stream",
     "text": [
      "c:\\python37\\lib\\site-packages\\sklearn\\linear_model\\ridge.py:147: LinAlgWarning: Ill-conditioned matrix (rcond=2.60126e-17): result may not be accurate.\n",
      "  overwrite_a=True).T\n",
      "c:\\python37\\lib\\site-packages\\sklearn\\linear_model\\ridge.py:147: LinAlgWarning: Ill-conditioned matrix (rcond=2.81731e-17): result may not be accurate.\n",
      "  overwrite_a=True).T\n"
     ]
    }
   ],
   "source": [
    "# Vaš kôd ovdje\n",
    "\n",
    "broj_ponavljanja=10\n",
    "reg_factors=[0.01,1000]\n",
    "weights = []\n",
    "\n",
    "for t in range(broj_ponavljanja):\n",
    "    index_list = np.random.choice(np.arange(len(grades_X_fixed_colinear)), int(len(grades_X_fixed_colinear)*0.5), replace=False)\n",
    "    random_X = grades_X_fixed_colinear[index_list]\n",
    "    random_y = grades_y[index_list]\n",
    "    \n",
    "    for _,reg_factor in enumerate(reg_factors):\n",
    "        \n",
    "        clf = Ridge(alpha=int(reg_factor))\n",
    "        clf.fit(random_X, random_y)\n",
    "        weights.append(clf.coef_)\n",
    "        print(\"Pokus\", t, \"lambda=\", reg_factor,\" Težine:\", clf.coef_)\n",
    "\n",
    "        \n",
    "for _,reg_factor in enumerate(reg_factors):\n",
    "    print(\"lambda = \",reg_factor,\"Mean= \", np.mean(weights, axis=0))\n",
    "    print(\"lambda= \",reg_factor,\"Standardna devijacija=\", np.std(weights, axis=0))\n"
   ]
  },
  {
   "cell_type": "markdown",
   "metadata": {},
   "source": [
    "**Q:** Kako regularizacija utječe na stabilnost težina?  \n",
    "**Q:** Jesu li koeficijenti jednakih magnituda kao u prethodnom pokusu? Objasnite zašto."
   ]
  },
  {
   "cell_type": "markdown",
   "metadata": {},
   "source": [
    "**c)** Koristeći [`numpy.linalg.cond`](https://docs.scipy.org/doc/numpy-1.13.0/reference/generated/numpy.linalg.cond.html) izračunajte kondicijski broj matrice $\\mathbf{\\Phi}^\\intercal\\mathbf{\\Phi}+\\lambda\\mathbf{I}$, gdje je $\\mathbf{\\Phi}$ matrica dizajna (`grades_X_fixed_colinear`). Ponovite i za $\\lambda=0.01$ i za $\\lambda=10$.\n"
   ]
  },
  {
   "cell_type": "code",
   "execution_count": 35,
   "metadata": {},
   "outputs": [
    {
     "name": "stdout",
     "output_type": "stream",
     "text": [
      "lambda= 0.01 , kondicijski broj:  100542.85592779591\n",
      "lambda= 10 , kondicijski broj:  101.53146069838238\n"
     ]
    }
   ],
   "source": [
    "# Vaš kôd ovdje\n",
    "\n",
    "reg_factors=[0.01,10]\n",
    "gram_matrix = np.matmul(grades_X_fixed_colinear.transpose(),grades_X_fixed_colinear)\n",
    "\n",
    "for _,reg_factor in enumerate(reg_factors):\n",
    "    mat = gram_matrix + reg_factor*modified_eye(np.shape(gram_matrix)[0])\n",
    "    print(\"lambda=\",reg_factor,\", kondicijski broj: \",np.linalg.cond(mat))\n"
   ]
  },
  {
   "cell_type": "markdown",
   "metadata": {},
   "source": [
    "**Q:** Kako regularizacija utječe na kondicijski broj matrice $\\mathbf{\\Phi}^\\intercal\\mathbf{\\Phi}+\\lambda\\mathbf{I}$?  "
   ]
  }
 ],
 "metadata": {
  "anaconda-cloud": {},
  "kernelspec": {
   "display_name": "Python 3",
   "language": "python",
   "name": "python3"
  },
  "language_info": {
   "codemirror_mode": {
    "name": "ipython",
    "version": 3
   },
   "file_extension": ".py",
   "mimetype": "text/x-python",
   "name": "python",
   "nbconvert_exporter": "python",
   "pygments_lexer": "ipython3",
   "version": "3.7.3"
  }
 },
 "nbformat": 4,
 "nbformat_minor": 1
}
